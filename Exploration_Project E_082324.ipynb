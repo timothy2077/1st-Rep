{
  "nbformat": 4,
  "nbformat_minor": 0,
  "metadata": {
    "colab": {
      "provenance": [],
      "authorship_tag": "ABX9TyMBnEuK1Av5OPwjjJtZBM+t",
      "include_colab_link": true
    },
    "kernelspec": {
      "name": "python3",
      "display_name": "Python 3"
    },
    "language_info": {
      "name": "python"
    }
  },
  "cells": [
    {
      "cell_type": "markdown",
      "metadata": {
        "id": "view-in-github",
        "colab_type": "text"
      },
      "source": [
        "<a href=\"https://colab.research.google.com/github/timothy2077/1st-Rep/blob/master/Exploration_Project%20E_082324.ipynb\" target=\"_parent\"><img src=\"https://colab.research.google.com/assets/colab-badge.svg\" alt=\"Open In Colab\"/></a>"
      ]
    },
    {
      "cell_type": "code",
      "execution_count": 3,
      "metadata": {
        "colab": {
          "base_uri": "https://localhost:8080/"
        },
        "id": "5XbJu8tmvtR6",
        "outputId": "95e610c3-c009-4b51-9da2-67a875e0cf8c"
      },
      "outputs": [
        {
          "output_type": "stream",
          "name": "stdout",
          "text": [
            "2.17.0\n"
          ]
        }
      ],
      "source": [
        "import tensorflow\n",
        "\n",
        "print(tensorflow.__version__)"
      ]
    },
    {
      "cell_type": "markdown",
      "source": [
        "## Step 1. 데이터 수집하기"
      ],
      "metadata": {
        "id": "o0WwBPqDwu-t"
      }
    },
    {
      "cell_type": "code",
      "source": [
        "# 필요한 라이브러리 설치\n",
        "!pip install pandas\n",
        "\n",
        "# 데이터 다운로드\n",
        "!wget https://raw.githubusercontent.com/songys/Chatbot_data/master/ChatbotData.csv\n",
        "\n",
        "# 데이터 읽기\n",
        "import pandas as pd\n",
        "data = pd.read_csv('ChatbotData.csv')\n",
        "print(data.head())\n"
      ],
      "metadata": {
        "colab": {
          "base_uri": "https://localhost:8080/"
        },
        "id": "h44iqNFkwmdm",
        "outputId": "b3774b5f-dbe7-4cae-e8cb-6dcc500e0936",
        "collapsed": true
      },
      "execution_count": 4,
      "outputs": [
        {
          "output_type": "stream",
          "name": "stdout",
          "text": [
            "Requirement already satisfied: pandas in /usr/local/lib/python3.10/dist-packages (2.1.4)\n",
            "Requirement already satisfied: numpy<2,>=1.22.4 in /usr/local/lib/python3.10/dist-packages (from pandas) (1.26.4)\n",
            "Requirement already satisfied: python-dateutil>=2.8.2 in /usr/local/lib/python3.10/dist-packages (from pandas) (2.8.2)\n",
            "Requirement already satisfied: pytz>=2020.1 in /usr/local/lib/python3.10/dist-packages (from pandas) (2024.1)\n",
            "Requirement already satisfied: tzdata>=2022.1 in /usr/local/lib/python3.10/dist-packages (from pandas) (2024.1)\n",
            "Requirement already satisfied: six>=1.5 in /usr/local/lib/python3.10/dist-packages (from python-dateutil>=2.8.2->pandas) (1.16.0)\n",
            "--2024-08-22 23:56:26--  https://raw.githubusercontent.com/songys/Chatbot_data/master/ChatbotData.csv\n",
            "Resolving raw.githubusercontent.com (raw.githubusercontent.com)... 185.199.108.133, 185.199.110.133, 185.199.109.133, ...\n",
            "Connecting to raw.githubusercontent.com (raw.githubusercontent.com)|185.199.108.133|:443... connected.\n",
            "HTTP request sent, awaiting response... 200 OK\n",
            "Length: 889842 (869K) [text/plain]\n",
            "Saving to: ‘ChatbotData.csv’\n",
            "\n",
            "ChatbotData.csv     100%[===================>] 868.99K  4.90MB/s    in 0.2s    \n",
            "\n",
            "2024-08-22 23:56:26 (4.90 MB/s) - ‘ChatbotData.csv’ saved [889842/889842]\n",
            "\n",
            "                 Q            A  label\n",
            "0           12시 땡!   하루가 또 가네요.      0\n",
            "1      1지망 학교 떨어졌어    위로해 드립니다.      0\n",
            "2     3박4일 놀러가고 싶다  여행은 언제나 좋죠.      0\n",
            "3  3박4일 정도 놀러가고 싶다  여행은 언제나 좋죠.      0\n",
            "4          PPL 심하네   눈살이 찌푸려지죠.      0\n"
          ]
        }
      ]
    },
    {
      "cell_type": "markdown",
      "source": [
        "## Step 2. 데이터 전처리하기\n"
      ],
      "metadata": {
        "id": "vMio_N6gw1Ts"
      }
    },
    {
      "cell_type": "markdown",
      "source": [
        "### A. 전처리 작업들\n",
        "\n",
        "#### a. 결측값 제거: 데이터셋에서 결측값을 제거하기\n",
        "#### b. 한글 외의 문자 제거: 정규 표현식을 사용하여 한글 외의 문자를 제거하기\n",
        "#### c. 공백 제거: 문자열의 앞뒤 공백을 제거하기\n",
        "#### d. 데이터셋 분할: 데이터를 훈련 데이터와 테스트 데이터로 분할하기"
      ],
      "metadata": {
        "id": "8VvE8LXGyI2l"
      }
    },
    {
      "cell_type": "code",
      "source": [
        "import pandas as pd\n",
        "import re\n",
        "from sklearn.model_selection import train_test_split\n",
        "\n",
        "# 데이터 로드\n",
        "data = pd.read_csv('ChatbotData.csv')\n",
        "\n",
        "# 데이터 확인\n",
        "print(data.head())\n",
        "\n",
        "# 결측값 제거\n",
        "data = data.dropna()\n",
        "\n",
        "# 한글 외의 문자 제거\n",
        "def clean_text(text):\n",
        "    text = re.sub(r'[^ㄱ-ㅎㅏ-ㅣ가-힣 ]', '', text)\n",
        "    return text\n",
        "\n",
        "data['Q'] = data['Q'].apply(clean_text)\n",
        "data['A'] = data['A'].apply(clean_text)\n",
        "\n",
        "# 소문자 변환 (한글 데이터에는 필요 없을 수 있음)\n",
        "# data['Q'] = data['Q'].str.lower()\n",
        "# data['A'] = data['A'].str.lower()\n",
        "\n",
        "# 공백 제거\n",
        "data['Q'] = data['Q'].str.strip()\n",
        "data['A'] = data['A'].str.strip()\n",
        "\n",
        "# 데이터셋 분할 (훈련 데이터와 테스트 데이터)\n",
        "train_data, test_data = train_test_split(data, test_size=0.2, random_state=42)\n",
        "\n",
        "# 전처리된 데이터 확인\n",
        "print(train_data.head())\n",
        "print(test_data.head())\n",
        "\n",
        "# 전처리된 데이터를 저장 (필요한 경우)\n",
        "train_data.to_csv('train_data.csv', index=False)\n",
        "test_data.to_csv('test_data.csv', index=False)\n"
      ],
      "metadata": {
        "colab": {
          "base_uri": "https://localhost:8080/"
        },
        "id": "beYSWWLFxBuy",
        "outputId": "14e50111-65ae-4ca9-f315-db18b67fe3a9",
        "collapsed": true
      },
      "execution_count": 5,
      "outputs": [
        {
          "output_type": "stream",
          "name": "stdout",
          "text": [
            "                 Q            A  label\n",
            "0           12시 땡!   하루가 또 가네요.      0\n",
            "1      1지망 학교 떨어졌어    위로해 드립니다.      0\n",
            "2     3박4일 놀러가고 싶다  여행은 언제나 좋죠.      0\n",
            "3  3박4일 정도 놀러가고 싶다  여행은 언제나 좋죠.      0\n",
            "4          PPL 심하네   눈살이 찌푸려지죠.      0\n",
            "                      Q                 A  label\n",
            "10512           엄청 로맨틱해       생각만해도 달콤하네요      2\n",
            "1199         대리님이 너무 갈궈      더 웃으면서 대해보세요      0\n",
            "9841   사내커플인데 비밀연애임 답답해  비밀연애가 말도 못하고 힘들죠      2\n",
            "5595        그 사람이 참 그리워            사랑했나봐요      1\n",
            "7228                  왜             궁금하네요      1\n",
            "               Q             A  label\n",
            "8169      죽을거 같네  나쁜 생각 하지 마세요      1\n",
            "900      내일 시험이야    컨디션 조절 하세요      0\n",
            "8075  정말내 자신이 싫다    자신은 사랑해주세요      1\n",
            "7625     이별후 네달째  바쁘게 살면서 잊어가요      1\n",
            "2816     쌍커풀 해볼까       눈은 기본이죠      0\n"
          ]
        }
      ]
    },
    {
      "cell_type": "markdown",
      "source": [
        "### Analysis:\n",
        "\n",
        "일반적인 대화 (label 0):\n",
        "예시:\n",
        "Q: “12시 땡!”\n",
        "A: “하루가 또 가네요.”\n",
        "Q: “1지망 학교 떨어졌어”\n",
        "A: “위로해 드립니다.”\n",
        "일반적인 일상 대화나 위로의 말을 포함\n",
        "\n",
        "감정적인 대화 (label 1):\n",
        "예시:\n",
        "Q: “그 사람이 참 그리워”\n",
        "A: “사랑했나봐요.”\n",
        "Q: “죽을거 같네”\n",
        "A: “나쁜 생각 하지 마세요.”\n",
        "감정적인 표현이나 위로의 말을 포함\n",
        "\n",
        "로맨틱한 대화 (label 2):\n",
        "예시:\n",
        "Q: “엄청 로맨틱해”\n",
        "A: “생각만해도 달콤하네요.”\n",
        "Q: “사내커플인데 비밀연애임 답답해”\n",
        "A: “비밀연애가 말도 못하고 힘들죠.”\n",
        "로맨틱한 감정이나 연애 관련 대화를 포함"
      ],
      "metadata": {
        "id": "RN-NRH2pzg31"
      }
    },
    {
      "cell_type": "markdown",
      "source": [
        "## Step 3. SubwordTextEncoder 사용하기"
      ],
      "metadata": {
        "id": "71JV1tsjz5wu"
      }
    },
    {
      "cell_type": "markdown",
      "source": [
        "### A.내부단어 토크나이저인 SubwordTextEncoder 사용하기\n",
        "\n",
        "#### 1. TensorFlow Datasets SubwordTextEncoder 를 토크나이저로 사용한다.  단어보다 더 작은 단위인 Subword를 기준으로 토크나이징하고,  각 토큰을 고유한 정수로 인코딩 한다.\n",
        "\n",
        "#### 2. 각 문장을 토큰화하고 각 문장의 시작과 끝을 나타내는 START_TOKEN 및 END_TOKEN을 추가한다.\n",
        "\n",
        "#### 3. 최대 길이 MAX_LENGTH 인 40을 넘는 문장들은 필터링한다.\n",
        "\n",
        "#### 4. MAX_LENGTH보다 길이가 짧은 문장들은 40에 맞도록 패딩한다.\n"
      ],
      "metadata": {
        "id": "UIz3ujPJyoQB"
      }
    },
    {
      "cell_type": "code",
      "source": [
        "import tensorflow as tf\n",
        "import tensorflow_datasets as tfds\n",
        "import numpy as np\n",
        "import pandas as pd\n",
        "import re\n",
        "from sklearn.model_selection import train_test_split\n",
        "\n",
        "# 데이터 로드\n",
        "data = pd.read_csv('ChatbotData.csv')\n",
        "\n",
        "# 데이터 확인\n",
        "print(data.head())\n",
        "\n",
        "# 결측값 제거\n",
        "data = data.dropna()\n",
        "\n",
        "# 한글 외의 문자 제거\n",
        "def clean_text(text):\n",
        "    text = re.sub(r'[^ㄱ-ㅎㅏ-ㅣ가-힣 ]', '', text)\n",
        "    return text\n",
        "\n",
        "data['Q'] = data['Q'].apply(clean_text)\n",
        "data['A'] = data['A'].apply(clean_text)\n",
        "\n",
        "# 공백 제거\n",
        "data['Q'] = data['Q'].str.strip()\n",
        "data['A'] = data['A'].str.strip()\n",
        "\n",
        "# 데이터셋 분할 (훈련 데이터와 테스트 데이터)\n",
        "train_data, test_data = train_test_split(data, test_size=0.2, random_state=42)\n",
        "\n",
        "# 전처리된 데이터 확인\n",
        "print(train_data.head())\n",
        "print(test_data.head())\n",
        "\n",
        "# TensorFlow Datasets SubwordTextEncoder를 사용하여 토크나이저 정의\n",
        "tokenizer = tfds.deprecated.text.SubwordTextEncoder.build_from_corpus(\n",
        "    train_data['Q'].tolist() + train_data['A'].tolist(), target_vocab_size=2**13)\n",
        "\n",
        "# 시작과 끝을 나타내는 토큰 정의\n",
        "START_TOKEN, END_TOKEN = [tokenizer.vocab_size], [tokenizer.vocab_size + 1]\n",
        "\n",
        "# 최대 길이 정의\n",
        "MAX_LENGTH = 40\n",
        "\n",
        "# 문장을 토큰화하고 시작과 끝 토큰 추가\n",
        "def tokenize_and_filter(inputs, outputs):\n",
        "    tokenized_inputs, tokenized_outputs = [], []\n",
        "\n",
        "    for (sentence1, sentence2) in zip(inputs, outputs):\n",
        "        sentence1 = START_TOKEN + tokenizer.encode(sentence1) + END_TOKEN\n",
        "        sentence2 = START_TOKEN + tokenizer.encode(sentence2) + END_TOKEN\n",
        "\n",
        "        if len(sentence1) <= MAX_LENGTH and len(sentence2) <= MAX_LENGTH:\n",
        "            tokenized_inputs.append(sentence1)\n",
        "            tokenized_outputs.append(sentence2)\n",
        "\n",
        "    tokenized_inputs = tf.keras.preprocessing.sequence.pad_sequences(\n",
        "        tokenized_inputs, maxlen=MAX_LENGTH, padding='post')\n",
        "    tokenized_outputs = tf.keras.preprocessing.sequence.pad_sequences(\n",
        "        tokenized_outputs, maxlen=MAX_LENGTH, padding='post')\n",
        "\n",
        "    return tokenized_inputs, tokenized_outputs\n",
        "\n",
        "# 훈련 데이터 토큰화 및 필터링\n",
        "train_inputs, train_outputs = tokenize_and_filter(train_data['Q'], train_data['A'])\n",
        "\n",
        "# 테스트 데이터 토큰화 및 필터링\n",
        "test_inputs, test_outputs = tokenize_and_filter(test_data['Q'], test_data['A'])\n",
        "\n",
        "# 전처리된 데이터 확인\n",
        "print(train_inputs[:5])\n",
        "print(train_outputs[:5])\n",
        "print(test_inputs[:5])\n",
        "print(test_outputs[:5])\n"
      ],
      "metadata": {
        "colab": {
          "base_uri": "https://localhost:8080/"
        },
        "id": "O436GtFq1lqF",
        "outputId": "4a721dae-79bd-4a02-8024-90ebd2315614",
        "collapsed": true
      },
      "execution_count": 6,
      "outputs": [
        {
          "output_type": "stream",
          "name": "stdout",
          "text": [
            "                 Q            A  label\n",
            "0           12시 땡!   하루가 또 가네요.      0\n",
            "1      1지망 학교 떨어졌어    위로해 드립니다.      0\n",
            "2     3박4일 놀러가고 싶다  여행은 언제나 좋죠.      0\n",
            "3  3박4일 정도 놀러가고 싶다  여행은 언제나 좋죠.      0\n",
            "4          PPL 심하네   눈살이 찌푸려지죠.      0\n",
            "                      Q                 A  label\n",
            "10512           엄청 로맨틱해       생각만해도 달콤하네요      2\n",
            "1199         대리님이 너무 갈궈      더 웃으면서 대해보세요      0\n",
            "9841   사내커플인데 비밀연애임 답답해  비밀연애가 말도 못하고 힘들죠      2\n",
            "5595        그 사람이 참 그리워            사랑했나봐요      1\n",
            "7228                  왜             궁금하네요      1\n",
            "               Q             A  label\n",
            "8169      죽을거 같네  나쁜 생각 하지 마세요      1\n",
            "900      내일 시험이야    컨디션 조절 하세요      0\n",
            "8075  정말내 자신이 싫다    자신은 사랑해주세요      1\n",
            "7625     이별후 네달째  바쁘게 살면서 잊어가요      1\n",
            "2816     쌍커풀 해볼까       눈은 기본이죠      0\n",
            "[[8718  409 7724 8719    0    0    0    0    0    0    0    0    0    0\n",
            "     0    0    0    0    0    0    0    0    0    0    0    0    0    0\n",
            "     0    0    0    0    0    0    0    0    0    0    0    0]\n",
            " [8718 2675 2686   13    3  581 4197 8719    0    0    0    0    0    0\n",
            "     0    0    0    0    0    0    0    0    0    0    0    0    0    0\n",
            "     0    0    0    0    0    0    0    0    0    0    0    0]\n",
            " [8718 3086 2409  234 7322  630 8494 1531 8719    0    0    0    0    0\n",
            "     0    0    0    0    0    0    0    0    0    0    0    0    0    0\n",
            "     0    0    0    0    0    0    0    0    0    0    0    0]\n",
            " [8718   53   36  165 1757 8719    0    0    0    0    0    0    0    0\n",
            "     0    0    0    0    0    0    0    0    0    0    0    0    0    0\n",
            "     0    0    0    0    0    0    0    0    0    0    0    0]\n",
            " [8718 2947 8719    0    0    0    0    0    0    0    0    0    0    0\n",
            "     0    0    0    0    0    0    0    0    0    0    0    0    0    0\n",
            "     0    0    0    0    0    0    0    0    0    0    0    0]]\n",
            "[[8718 3063  435 8698 8651 8626 1280 8719    0    0    0    0    0    0\n",
            "     0    0    0    0    0    0    0    0    0    0    0    0    0    0\n",
            "     0    0    0    0    0    0    0    0    0    0    0    0]\n",
            " [8718    6 4777 4084 8719    0    0    0    0    0    0    0    0    0\n",
            "     0    0    0    0    0    0    0    0    0    0    0    0    0    0\n",
            "     0    0    0    0    0    0    0    0    0    0    0    0]\n",
            " [8718 7322   29 1135 1131  859 8719    0    0    0    0    0    0    0\n",
            "     0    0    0    0    0    0    0    0    0    0    0    0    0    0\n",
            "     0    0    0    0    0    0    0    0    0    0    0    0]\n",
            " [8718 2222 8719    0    0    0    0    0    0    0    0    0    0    0\n",
            "     0    0    0    0    0    0    0    0    0    0    0    0    0    0\n",
            "     0    0    0    0    0    0    0    0    0    0    0    0]\n",
            " [8718 1150 8719    0    0    0    0    0    0    0    0    0    0    0\n",
            "     0    0    0    0    0    0    0    0    0    0    0    0    0    0\n",
            "     0    0    0    0    0    0    0    0    0    0    0    0]]\n",
            "[[8718 4571    5 1396 8719    0    0    0    0    0    0    0    0    0\n",
            "     0    0    0    0    0    0    0    0    0    0    0    0    0    0\n",
            "     0    0    0    0    0    0    0    0    0    0    0    0]\n",
            " [8718  314  213 1784  759 8719    0    0    0    0    0    0    0    0\n",
            "     0    0    0    0    0    0    0    0    0    0    0    0    0    0\n",
            "     0    0    0    0    0    0    0    0    0    0    0    0]\n",
            " [8718 2111   51  427 1111 8719    0    0    0    0    0    0    0    0\n",
            "     0    0    0    0    0    0    0    0    0    0    0    0    0    0\n",
            "     0    0    0    0    0    0    0    0    0    0    0    0]\n",
            " [8718 1089   37 2679 8719    0    0    0    0    0    0    0    0    0\n",
            "     0    0    0    0    0    0    0    0    0    0    0    0    0    0\n",
            "     0    0    0    0    0    0    0    0    0    0    0    0]\n",
            " [8718 8698 8602 8603 1415 1588 8494  239 8719    0    0    0    0    0\n",
            "     0    0    0    0    0    0    0    0    0    0    0    0    0    0\n",
            "     0    0    0    0    0    0    0    0    0    0    0    0]]\n",
            "[[8718  418  345  140   31 8719    0    0    0    0    0    0    0    0\n",
            "     0    0    0    0    0    0    0    0    0    0    0    0    0    0\n",
            "     0    0    0    0    0    0    0    0    0    0    0    0]\n",
            " [8718 2408 6365   77 8719    0    0    0    0    0    0    0    0    0\n",
            "     0    0    0    0    0    0    0    0    0    0    0    0    0    0\n",
            "     0    0    0    0    0    0    0    0    0    0    0    0]\n",
            " [8718 1309   35  718 8719    0    0    0    0    0    0    0    0    0\n",
            "     0    0    0    0    0    0    0    0    0    0    0    0    0    0\n",
            "     0    0    0    0    0    0    0    0    0    0    0    0]\n",
            " [8718 2250 7240 1188  522 8719    0    0    0    0    0    0    0    0\n",
            "     0    0    0    0    0    0    0    0    0    0    0    0    0    0\n",
            "     0    0    0    0    0    0    0    0    0    0    0    0]\n",
            " [8718 5548 8208 8719    0    0    0    0    0    0    0    0    0    0\n",
            "     0    0    0    0    0    0    0    0    0    0    0    0    0    0\n",
            "     0    0    0    0    0    0    0    0    0    0    0    0]]\n"
          ]
        }
      ]
    },
    {
      "cell_type": "markdown",
      "source": [
        "## B. 토큰화 및 패딩 결과 분석\n",
        "\n",
        "### 1. 토큰화된 입력 데이터 (train_inputs): 각 문장은 SubwordTextEncoder를 사용하여 토큰화 실행\n",
        "예시:\n",
        "[8718, 409, 7724, 8719, 0, 0, 0, …]\n",
        "여기서 8718은 시작 토큰, 8719는 끝 토큰을 나타내며 길이가 40보다 짧은 문장들은 0으로 패딩되었다.\n",
        "\n",
        "### 2. 토큰화된 출력 데이터 (train_outputs):\n",
        "입력 데이터와 동일한 방식으로 토큰화 및 패딩되었다.\n",
        "예시:\n",
        "[8718, 3063, 435, 8698, 8651, 8626, 1280, 8719, 0, 0, 0, …]\n",
        "\n",
        "### 3. 테스트 데이터 (test_inputs, test_outputs):\n",
        "훈련 데이터와 동일한 방식으로 토큰화 및 패딩되었다.\n",
        "예시:\n",
        "[8718, 4571, 5, 1396, 8719, 0, 0, 0, …]"
      ],
      "metadata": {
        "id": "dzfE82TL4ZNR"
      }
    },
    {
      "cell_type": "markdown",
      "source": [
        "## C. 노드 스텝들을 통해 결과물 한 번 더 확인하기"
      ],
      "metadata": {
        "id": "f-1aJo8x6uOT"
      }
    },
    {
      "cell_type": "markdown",
      "source": [
        "### 1. 단어장(Vocabulary) 만들기"
      ],
      "metadata": {
        "id": "_C3Awr3x64tL"
      }
    },
    {
      "cell_type": "code",
      "source": [
        "import tensorflow_datasets as tfds\n",
        "print(\"Success is walking from failure to failure with no loss of enthusiasm! 👐\")\n",
        "\n",
        "# Define 'questions' and 'answers' here. For example:\n",
        "questions = [\"How are you?\", \"What's your name?\"]\n",
        "answers = [\"I'm doing well, thanks!\", \"I'm a large language model.\"]\n",
        "\n",
        "# 질문과 답변 데이터셋에 대해서 Vocabulary 생성\n",
        "tokenizer = tfds.deprecated.text.SubwordTextEncoder.build_from_corpus(questions + answers, target_vocab_size=2**13)\n",
        "print(\"슝=3 \")"
      ],
      "metadata": {
        "colab": {
          "base_uri": "https://localhost:8080/"
        },
        "id": "t7UdcNFC9AQK",
        "outputId": "eb95c37f-ba4e-4d97-dad0-36f7d8a3bf4b"
      },
      "execution_count": 7,
      "outputs": [
        {
          "output_type": "stream",
          "name": "stdout",
          "text": [
            "Success is walking from failure to failure with no loss of enthusiasm! 👐\n",
            "슝=3 \n"
          ]
        }
      ]
    },
    {
      "cell_type": "markdown",
      "source": [
        "#### a. 디코더의 문장 생성 과정에서 사용할 '시작 토큰'과 '종료 토큰'에 대해서도 임의로 단어장에 추가하여서 정수를 부여하기\n"
      ],
      "metadata": {
        "id": "3GcO7JZq9FSC"
      }
    },
    {
      "cell_type": "code",
      "source": [
        "# 시작 토큰과 종료 토큰에 고유한 정수를 부여합니다.\n",
        "START_TOKEN, END_TOKEN = [tokenizer.vocab_size], [tokenizer.vocab_size + 1]\n",
        "print(\"슝=3\")"
      ],
      "metadata": {
        "colab": {
          "base_uri": "https://localhost:8080/"
        },
        "id": "X32Z62pT9W9v",
        "outputId": "3eb31512-0988-4b7d-f323-bc52690cdc3b"
      },
      "execution_count": 8,
      "outputs": [
        {
          "output_type": "stream",
          "name": "stdout",
          "text": [
            "슝=3\n"
          ]
        }
      ]
    },
    {
      "cell_type": "code",
      "source": [
        "print('START_TOKEN의 번호 :' ,[tokenizer.vocab_size])\n",
        "print('END_TOKEN의 번호 :' ,[tokenizer.vocab_size + 1])"
      ],
      "metadata": {
        "colab": {
          "base_uri": "https://localhost:8080/"
        },
        "id": "B9da4gLiDpNX",
        "outputId": "64cfccbe-0b72-479e-ebca-fca7d1e9f74f"
      },
      "execution_count": 9,
      "outputs": [
        {
          "output_type": "stream",
          "name": "stdout",
          "text": [
            "START_TOKEN의 번호 : [273]\n",
            "END_TOKEN의 번호 : [274]\n"
          ]
        }
      ]
    },
    {
      "cell_type": "markdown",
      "source": [
        "각각 273과 274라는 점에서 현재 단어장의 크기가 273(0번부터 272번)이라는 의미이다."
      ],
      "metadata": {
        "id": "bqoI4BOuD3d1"
      }
    },
    {
      "cell_type": "code",
      "source": [
        "# 시작 토큰과 종료 토큰을 고려하여 +2를 하여 단어장의 크기를 산정합니다.\n",
        "VOCAB_SIZE = tokenizer.vocab_size + 2\n",
        "print(VOCAB_SIZE)"
      ],
      "metadata": {
        "colab": {
          "base_uri": "https://localhost:8080/"
        },
        "id": "u_U6wHx2DyBF",
        "outputId": "c862251a-e1e3-43e7-f19c-b01c6536489a"
      },
      "execution_count": 10,
      "outputs": [
        {
          "output_type": "stream",
          "name": "stdout",
          "text": [
            "275\n"
          ]
        }
      ]
    },
    {
      "cell_type": "markdown",
      "source": [
        "### 2. 각 단어를 고유한 정수로 인코딩(Integer encoding) & 패딩(Padding)"
      ],
      "metadata": {
        "id": "Y_DJjxLKEUGC"
      }
    },
    {
      "cell_type": "code",
      "source": [
        "# 임의의 22번째 샘플에 대해서 정수 인코딩 작업을 수행.\n",
        "# 각 토큰을 고유한 정수로 변환\n",
        "# 리스트는 0부터 시작하므로 21번째는 index 20입니다.\n",
        "print('정수 인코딩 후의 21번째 질문 샘플: {}'.format(tokenizer.encode(questions[0])))  # 0 또는 1로 변경\n",
        "print('정수 인코딩 후의 21번째 답변 샘플: {}'.format(tokenizer.encode(answers[0])))  # 0 또는 1로 변경"
      ],
      "metadata": {
        "colab": {
          "base_uri": "https://localhost:8080/"
        },
        "id": "L1V8FlVHErqe",
        "outputId": "3075381f-7a5e-4dde-f2ed-d3ae94ac57a6"
      },
      "execution_count": 11,
      "outputs": [
        {
          "output_type": "stream",
          "name": "stdout",
          "text": [
            "정수 인코딩 후의 21번째 질문 샘플: [15, 12, 3, 80]\n",
            "정수 인코딩 후의 21번째 답변 샘플: [90, 56, 1, 11, 4, 16, 5, 50]\n"
          ]
        }
      ]
    },
    {
      "cell_type": "code",
      "source": [
        "# 샘플의 최대 허용 길이 또는 패딩 후의 최종 길이\n",
        "MAX_LENGTH = 40\n",
        "print(MAX_LENGTH)"
      ],
      "metadata": {
        "colab": {
          "base_uri": "https://localhost:8080/"
        },
        "id": "G5LCmVKbEv3-",
        "outputId": "f14f853c-7b89-43ac-82ce-b1a7b0ebcf94"
      },
      "execution_count": 12,
      "outputs": [
        {
          "output_type": "stream",
          "name": "stdout",
          "text": [
            "40\n"
          ]
        }
      ]
    },
    {
      "cell_type": "code",
      "source": [
        "# 정수 인코딩, 최대 길이를 초과하는 샘플 제거, 패딩\n",
        "def tokenize_and_filter(inputs, outputs):\n",
        "  tokenized_inputs, tokenized_outputs = [], []\n",
        "\n",
        "  for (sentence1, sentence2) in zip(inputs, outputs):\n",
        "    # 정수 인코딩 과정에서 시작 토큰과 종료 토큰을 추가\n",
        "    sentence1 = START_TOKEN + tokenizer.encode(sentence1) + END_TOKEN\n",
        "    sentence2 = START_TOKEN + tokenizer.encode(sentence2) + END_TOKEN\n",
        "\n",
        "    # 최대 길이 40 이하인 경우에만 데이터셋으로 허용\n",
        "    if len(sentence1) <= MAX_LENGTH and len(sentence2) <= MAX_LENGTH:\n",
        "      tokenized_inputs.append(sentence1)\n",
        "      tokenized_outputs.append(sentence2)\n",
        "\n",
        "  # 최대 길이 40으로 모든 데이터셋을 패딩\n",
        "  tokenized_inputs = tf.keras.preprocessing.sequence.pad_sequences(\n",
        "      tokenized_inputs, maxlen=MAX_LENGTH, padding='post')\n",
        "  tokenized_outputs = tf.keras.preprocessing.sequence.pad_sequences(\n",
        "      tokenized_outputs, maxlen=MAX_LENGTH, padding='post')\n",
        "\n",
        "  return tokenized_inputs, tokenized_outputs\n",
        "print(\"슝=3\")"
      ],
      "metadata": {
        "colab": {
          "base_uri": "https://localhost:8080/"
        },
        "id": "yEvukGsDE0oC",
        "outputId": "7d35cc55-0260-4409-d415-c5684c6e881e"
      },
      "execution_count": 13,
      "outputs": [
        {
          "output_type": "stream",
          "name": "stdout",
          "text": [
            "슝=3\n"
          ]
        }
      ]
    },
    {
      "cell_type": "code",
      "source": [
        "questions, answers = tokenize_and_filter(questions, answers)\n",
        "print('단어장의 크기 :',(VOCAB_SIZE))\n",
        "print('필터링 후의 질문 샘플 개수: {}'.format(len(questions)))\n",
        "print('필터링 후의 답변 샘플 개수: {}'.format(len(answers)))"
      ],
      "metadata": {
        "colab": {
          "base_uri": "https://localhost:8080/"
        },
        "id": "PxRLHOpBE6Pa",
        "outputId": "6ef41390-af77-4960-f019-7b127c19a049"
      },
      "execution_count": 14,
      "outputs": [
        {
          "output_type": "stream",
          "name": "stdout",
          "text": [
            "단어장의 크기 : 275\n",
            "필터링 후의 질문 샘플 개수: 2\n",
            "필터링 후의 답변 샘플 개수: 2\n"
          ]
        }
      ]
    },
    {
      "cell_type": "markdown",
      "source": [
        "### 3. 교사 강요(Teacher Forcing) 사용하기"
      ],
      "metadata": {
        "id": "Qp6kj0JrFDDV"
      }
    },
    {
      "cell_type": "code",
      "source": [
        "BATCH_SIZE = 64\n",
        "BUFFER_SIZE = 20000\n",
        "\n",
        "# 디코더는 이전의 target을 다음의 input으로 사용합니다.\n",
        "# 이에 따라 outputs에서는 START_TOKEN을 제거하겠습니다.\n",
        "dataset = tf.data.Dataset.from_tensor_slices((\n",
        "    {\n",
        "        'inputs': questions,\n",
        "        'dec_inputs': answers[:, :-1]\n",
        "    },\n",
        "    {\n",
        "        'outputs': answers[:, 1:]\n",
        "    },\n",
        "))\n",
        "\n",
        "dataset = dataset.cache()\n",
        "dataset = dataset.shuffle(BUFFER_SIZE)\n",
        "dataset = dataset.batch(BATCH_SIZE)\n",
        "dataset = dataset.prefetch(tf.data.experimental.AUTOTUNE)\n",
        "print(\"슝=3\")"
      ],
      "metadata": {
        "colab": {
          "base_uri": "https://localhost:8080/"
        },
        "id": "x2Dlob__E_py",
        "outputId": "121ca1b3-c7bb-4b6a-f295-5f3e3b4e0d36"
      },
      "execution_count": 15,
      "outputs": [
        {
          "output_type": "stream",
          "name": "stdout",
          "text": [
            "슝=3\n"
          ]
        }
      ]
    },
    {
      "cell_type": "markdown",
      "source": [
        "## D. 추가적인 전처리들 수행하기\n",
        "\n",
        "### 1. 데이터 로드 및 전처리: 이전 코드와 동일하게 데이터를 로드하고 전처리하기\n",
        "### 2. 형태소 분석 및 불용어 제거: konlpy 라이브러리의 Okt 클래스를 사용하여 형태소 분석을 수행하고 불용어를 제거하기\n",
        "### 3. 토크나이저 정의 및 토큰화: TensorFlow Datasets의 SubwordTextEncoder를 사용하여 토크나이저를 정의하고 문장을 토큰화하기\n",
        "### 4. 데이터셋 생성: 토큰화된 데이터를 사용하여 TensorFlow 데이터셋을 생성하기\n",
        "\n"
      ],
      "metadata": {
        "id": "Qg0w_oxbFcV6"
      }
    },
    {
      "cell_type": "code",
      "source": [
        "!pip install konlpy"
      ],
      "metadata": {
        "colab": {
          "base_uri": "https://localhost:8080/"
        },
        "collapsed": true,
        "id": "T93iX7iBHE3J",
        "outputId": "af9f4ff7-f4a0-4811-9ae4-392fc33d56ad"
      },
      "execution_count": 16,
      "outputs": [
        {
          "output_type": "stream",
          "name": "stdout",
          "text": [
            "Collecting konlpy\n",
            "  Downloading konlpy-0.6.0-py2.py3-none-any.whl.metadata (1.9 kB)\n",
            "Collecting JPype1>=0.7.0 (from konlpy)\n",
            "  Downloading JPype1-1.5.0-cp310-cp310-manylinux_2_17_x86_64.manylinux2014_x86_64.whl.metadata (4.9 kB)\n",
            "Requirement already satisfied: lxml>=4.1.0 in /usr/local/lib/python3.10/dist-packages (from konlpy) (4.9.4)\n",
            "Requirement already satisfied: numpy>=1.6 in /usr/local/lib/python3.10/dist-packages (from konlpy) (1.26.4)\n",
            "Requirement already satisfied: packaging in /usr/local/lib/python3.10/dist-packages (from JPype1>=0.7.0->konlpy) (24.1)\n",
            "Downloading konlpy-0.6.0-py2.py3-none-any.whl (19.4 MB)\n",
            "\u001b[2K   \u001b[90m━━━━━━━━━━━━━━━━━━━━━━━━━━━━━━━━━━━━━━━━\u001b[0m \u001b[32m19.4/19.4 MB\u001b[0m \u001b[31m78.4 MB/s\u001b[0m eta \u001b[36m0:00:00\u001b[0m\n",
            "\u001b[?25hDownloading JPype1-1.5.0-cp310-cp310-manylinux_2_17_x86_64.manylinux2014_x86_64.whl (488 kB)\n",
            "\u001b[2K   \u001b[90m━━━━━━━━━━━━━━━━━━━━━━━━━━━━━━━━━━━━━━━━\u001b[0m \u001b[32m488.6/488.6 kB\u001b[0m \u001b[31m32.0 MB/s\u001b[0m eta \u001b[36m0:00:00\u001b[0m\n",
            "\u001b[?25hInstalling collected packages: JPype1, konlpy\n",
            "Successfully installed JPype1-1.5.0 konlpy-0.6.0\n"
          ]
        }
      ]
    },
    {
      "cell_type": "code",
      "source": [
        "import tensorflow as tf\n",
        "import tensorflow_datasets as tfds\n",
        "import numpy as np\n",
        "import pandas as pd\n",
        "import re\n",
        "from sklearn.model_selection import train_test_split\n",
        "from konlpy.tag import Okt\n",
        "\n",
        "# 데이터 로드\n",
        "data = pd.read_csv('ChatbotData.csv')\n",
        "\n",
        "# 데이터 확인\n",
        "print(data.head())\n",
        "\n",
        "# 결측값 제거\n",
        "data = data.dropna()\n",
        "\n",
        "# 한글 외의 문자 제거\n",
        "def clean_text(text):\n",
        "    text = re.sub(r'[^ㄱ-ㅎㅏ-ㅣ가-힣 ]', '', text)\n",
        "    return text\n",
        "\n",
        "data['Q'] = data['Q'].apply(clean_text)\n",
        "data['A'] = data['A'].apply(clean_text)\n",
        "\n",
        "# 공백 제거\n",
        "data['Q'] = data['Q'].str.strip()\n",
        "data['A'] = data['A'].str.strip()\n",
        "\n",
        "# 형태소 분석 및 불용어 제거\n",
        "okt = Okt()\n",
        "stopwords = ['은', '는', '이', '가', '을', '를', '에', '의', '와', '한', '하다']\n",
        "\n",
        "def preprocess_text(text):\n",
        "    tokens = okt.morphs(text)\n",
        "    tokens = [word for word in tokens if word not in stopwords]\n",
        "    return ' '.join(tokens)\n",
        "\n",
        "data['Q'] = data['Q'].apply(preprocess_text)\n",
        "data['A'] = data['A'].apply(preprocess_text)\n",
        "\n",
        "# 데이터셋 분할 (훈련 데이터와 테스트 데이터)\n",
        "train_data, test_data = train_test_split(data, test_size=0.2, random_state=42)\n",
        "\n",
        "# 전처리된 데이터 확인\n",
        "print(train_data.head())\n",
        "print(test_data.head())\n",
        "\n",
        "# TensorFlow Datasets SubwordTextEncoder를 사용하여 토크나이저 정의\n",
        "tokenizer = tfds.deprecated.text.SubwordTextEncoder.build_from_corpus(\n",
        "    train_data['Q'].tolist() + train_data['A'].tolist(), target_vocab_size=2**13)\n",
        "\n",
        "# 시작과 끝을 나타내는 토큰 정의\n",
        "START_TOKEN, END_TOKEN = [tokenizer.vocab_size], [tokenizer.vocab_size + 1]\n",
        "\n",
        "# 최대 길이 정의\n",
        "MAX_LENGTH = 40\n",
        "\n",
        "# 문장을 토큰화하고 시작과 끝 토큰 추가\n",
        "def tokenize_and_filter(inputs, outputs):\n",
        "    tokenized_inputs, tokenized_outputs = [], []\n",
        "\n",
        "    for (sentence1, sentence2) in zip(inputs, outputs):\n",
        "        sentence1 = START_TOKEN + tokenizer.encode(sentence1) + END_TOKEN\n",
        "        sentence2 = START_TOKEN + tokenizer.encode(sentence2) + END_TOKEN\n",
        "\n",
        "        if len(sentence1) <= MAX_LENGTH and len(sentence2) <= MAX_LENGTH:\n",
        "            tokenized_inputs.append(sentence1)\n",
        "            tokenized_outputs.append(sentence2)\n",
        "\n",
        "    tokenized_inputs = tf.keras.preprocessing.sequence.pad_sequences(\n",
        "        tokenized_inputs, maxlen=MAX_LENGTH, padding='post')\n",
        "    tokenized_outputs = tf.keras.preprocessing.sequence.pad_sequences(\n",
        "        tokenized_outputs, maxlen=MAX_LENGTH, padding='post')\n",
        "\n",
        "    return tokenized_inputs, tokenized_outputs\n",
        "\n",
        "# 훈련 데이터 토큰화 및 필터링\n",
        "train_inputs, train_outputs = tokenize_and_filter(train_data['Q'], train_data['A'])\n",
        "\n",
        "# 테스트 데이터 토큰화 및 필터링\n",
        "test_inputs, test_outputs = tokenize_and_filter(test_data['Q'], test_data['A'])\n",
        "\n",
        "# 전처리된 데이터 확인\n",
        "print(train_inputs[:5])\n",
        "print(train_outputs[:5])\n",
        "print(test_inputs[:5])\n",
        "print(test_outputs[:5])\n",
        "\n",
        "# 데이터셋 생성\n",
        "BATCH_SIZE = 64\n",
        "BUFFER_SIZE = 20000\n",
        "\n",
        "dataset = tf.data.Dataset.from_tensor_slices((\n",
        "    {\n",
        "        'inputs': train_inputs,\n",
        "        'dec_inputs': train_outputs[:, :-1]\n",
        "    },\n",
        "    {\n",
        "        'outputs': train_outputs[:, 1:]\n",
        "    },\n",
        "))\n",
        "\n",
        "dataset = dataset.cache()\n",
        "dataset = dataset.shuffle(BUFFER_SIZE)\n",
        "dataset = dataset.batch(BATCH_SIZE)\n",
        "dataset = dataset.prefetch(tf.data.experimental.AUTOTUNE)\n",
        "\n",
        "print(\"전처리 및 데이터셋 생성 완료!\")\n"
      ],
      "metadata": {
        "colab": {
          "base_uri": "https://localhost:8080/"
        },
        "id": "W_N_RmtnFS1W",
        "outputId": "3c632e2a-9f0a-4240-88df-07801a30f97f"
      },
      "execution_count": 17,
      "outputs": [
        {
          "output_type": "stream",
          "name": "stdout",
          "text": [
            "                 Q            A  label\n",
            "0           12시 땡!   하루가 또 가네요.      0\n",
            "1      1지망 학교 떨어졌어    위로해 드립니다.      0\n",
            "2     3박4일 놀러가고 싶다  여행은 언제나 좋죠.      0\n",
            "3  3박4일 정도 놀러가고 싶다  여행은 언제나 좋죠.      0\n",
            "4          PPL 심하네   눈살이 찌푸려지죠.      0\n",
            "                          Q                  A  label\n",
            "10512              엄청 로맨틱 해      생각 만해 도 달콤하네요      2\n",
            "1199             대리 님 너무 갈궈      더 웃으면서 대해 보세요      0\n",
            "9841   사 내 커플 인데 비밀연애 임 답답해  비밀연애 말 도 못 하고 힘들죠      2\n",
            "5595             그 사람 참 그리워           사랑 했나 봐요      1\n",
            "7228                      왜              궁금하네요      1\n",
            "               Q             A  label\n",
            "8169      죽을거 같네  나쁜 생각 하지 마세요      1\n",
            "900     내일 시험 이야    컨디션 조절 하세요      0\n",
            "8075  정말 내 자신 싫다    자신 사랑 해주세요      1\n",
            "7625  이별 후 네 달 째  바쁘게 살면서 잊어가요      1\n",
            "2816   쌍 커 풀 해볼까        눈 기본 죠      0\n",
            "[[8553  468  805   45 8554    0    0    0    0    0    0    0    0    0\n",
            "     0    0    0    0    0    0    0    0    0    0    0    0    0    0\n",
            "     0    0    0    0    0    0    0    0    0    0    0    0]\n",
            " [8553 2009 2016   15 8250 8554    0    0    0    0    0    0    0    0\n",
            "     0    0    0    0    0    0    0    0    0    0    0    0    0    0\n",
            "     0    0    0    0    0    0    0    0    0    0    0    0]\n",
            " [8553  408   27 1016  105 4382 5960 1599 8554    0    0    0    0    0\n",
            "     0    0    0    0    0    0    0    0    0    0    0    0    0    0\n",
            "     0    0    0    0    0    0    0    0    0    0    0    0]\n",
            " [8553   47    2  222 2045 8554    0    0    0    0    0    0    0    0\n",
            "     0    0    0    0    0    0    0    0    0    0    0    0    0    0\n",
            "     0    0    0    0    0    0    0    0    0    0    0    0]\n",
            " [8553 6125 8554    0    0    0    0    0    0    0    0    0    0    0\n",
            "     0    0    0    0    0    0    0    0    0    0    0    0    0    0\n",
            "     0    0    0    0    0    0    0    0    0    0    0    0]]\n",
            "[[8553    9 1446    4 7650 8554    0    0    0    0    0    0    0    0\n",
            "     0    0    0    0    0    0    0    0    0    0    0    0    0    0\n",
            "     0    0    0    0    0    0    0    0    0    0    0    0]\n",
            " [8553   18 3180  640   22 8554    0    0    0    0    0    0    0    0\n",
            "     0    0    0    0    0    0    0    0    0    0    0    0    0    0\n",
            "     0    0    0    0    0    0    0    0    0    0    0    0]\n",
            " [8553 4382   26    4   34   19  849 8554    0    0    0    0    0    0\n",
            "     0    0    0    0    0    0    0    0    0    0    0    0    0    0\n",
            "     0    0    0    0    0    0    0    0    0    0    0    0]\n",
            " [8553    6  251   24 8554    0    0    0    0    0    0    0    0    0\n",
            "     0    0    0    0    0    0    0    0    0    0    0    0    0    0\n",
            "     0    0    0    0    0    0    0    0    0    0    0    0]\n",
            " [8553 1071 8554    0    0    0    0    0    0    0    0    0    0    0\n",
            "     0    0    0    0    0    0    0    0    0    0    0    0    0    0\n",
            "     0    0    0    0    0    0    0    0    0    0    0    0]]\n",
            "[[8553 5687 1077 8554    0    0    0    0    0    0    0    0    0    0\n",
            "     0    0    0    0    0    0    0    0    0    0    0    0    0    0\n",
            "     0    0    0    0    0    0    0    0    0    0    0    0]\n",
            " [8553  220  874  153 8554    0    0    0    0    0    0    0    0    0\n",
            "     0    0    0    0    0    0    0    0    0    0    0    0    0    0\n",
            "     0    0    0    0    0    0    0    0    0    0    0    0]\n",
            " [8553   97   27   67 1042 8554    0    0    0    0    0    0    0    0\n",
            "     0    0    0    0    0    0    0    0    0    0    0    0    0    0\n",
            "     0    0    0    0    0    0    0    0    0    0    0    0]\n",
            " [8553   25  112  110  201  378 8554    0    0    0    0    0    0    0\n",
            "     0    0    0    0    0    0    0    0    0    0    0    0    0    0\n",
            "     0    0    0    0    0    0    0    0    0    0    0    0]\n",
            " [8553 6477 5413 3000  238 8554    0    0    0    0    0    0    0    0\n",
            "     0    0    0    0    0    0    0    0    0    0    0    0    0    0\n",
            "     0    0    0    0    0    0    0    0    0    0    0    0]]\n",
            "[[8553  399    9   57   52 8554    0    0    0    0    0    0    0    0\n",
            "     0    0    0    0    0    0    0    0    0    0    0    0    0    0\n",
            "     0    0    0    0    0    0    0    0    0    0    0    0]\n",
            " [8553 1841 1098   48 8554    0    0    0    0    0    0    0    0    0\n",
            "     0    0    0    0    0    0    0    0    0    0    0    0    0    0\n",
            "     0    0    0    0    0    0    0    0    0    0    0    0]\n",
            " [8553   67    6  118 8554    0    0    0    0    0    0    0    0    0\n",
            "     0    0    0    0    0    0    0    0    0    0    0    0    0    0\n",
            "     0    0    0    0    0    0    0    0    0    0    0    0]\n",
            " [8553 1742 4347 5924    5 8554    0    0    0    0    0    0    0    0\n",
            "     0    0    0    0    0    0    0    0    0    0    0    0    0    0\n",
            "     0    0    0    0    0    0    0    0    0    0    0    0]\n",
            " [8553  193  760   50 8554    0    0    0    0    0    0    0    0    0\n",
            "     0    0    0    0    0    0    0    0    0    0    0    0    0    0\n",
            "     0    0    0    0    0    0    0    0    0    0    0    0]]\n",
            "전처리 및 데이터셋 생성 완료!\n"
          ]
        }
      ]
    },
    {
      "cell_type": "markdown",
      "source": [
        "### 토큰화 및 패딩 결과 분석\n",
        "\n",
        "#### 1. 토큰화된 입력 데이터 (train_inputs):\n",
        "각 문장은 SubwordTextEncoder를 사용하여 토큰화되었다.\n",
        "예시:\n",
        "[8553, 468, 805, 45, 8554, 0, 0, 0, …]\n",
        "여기서 8553은 시작 토큰, 8554는 끝 토큰을 나타낸다.\n",
        "길이가 40보다 짧은 문장들은 0으로 패딩되었다.\n",
        "\n",
        "#### 2. 토큰화된 출력 데이터 (train_outputs):\n",
        "입력 데이터와 동일한 방식으로 토큰화 및 패딩되었다.\n",
        "예시:\n",
        "[8553, 9, 1446, 4, 7650, 8554, 0, 0, …]\n",
        "\n",
        "#### 3. 테스트 데이터 (test_inputs, test_outputs):\n",
        "훈련 데이터와 동일한 방식으로 토큰화 및 패딩되었다.\n",
        "예시:\n",
        "[8553, 5687, 1077, 8554, 0, 0, 0, …]"
      ],
      "metadata": {
        "id": "3CAiu6MqIkjq"
      }
    },
    {
      "cell_type": "markdown",
      "source": [
        "# Step 4. 모델 구성하기"
      ],
      "metadata": {
        "id": "kgm_NgWeH2FL"
      }
    },
    {
      "cell_type": "markdown",
      "source": [
        "## A. 인코더 층 함수와 디코더 층 함수를 사용하여 트랜스포머 함수를 정의하기"
      ],
      "metadata": {
        "id": "D2f3AlqkI_eF"
      }
    },
    {
      "cell_type": "code",
      "source": [
        "def transformer(vocab_size,\n",
        "                num_layers,\n",
        "                units,\n",
        "                d_model,\n",
        "                num_heads,\n",
        "                dropout,\n",
        "                name=\"transformer\"):\n",
        "  inputs = tf.keras.Input(shape=(None,), name=\"inputs\")\n",
        "  dec_inputs = tf.keras.Input(shape=(None,), name=\"dec_inputs\")\n",
        "\n",
        "  # 인코더에서 패딩을 위한 마스크\n",
        "  enc_padding_mask = tf.keras.layers.Lambda(\n",
        "      create_padding_mask, output_shape=(1, 1, None),\n",
        "      name='enc_padding_mask')(inputs)\n",
        "\n",
        "  # 디코더에서 미래의 토큰을 마스크 하기 위해서 사용합니다.\n",
        "  # 내부적으로 패딩 마스크도 포함되어져 있습니다.\n",
        "  look_ahead_mask = tf.keras.layers.Lambda(\n",
        "      create_look_ahead_mask,\n",
        "      output_shape=(1, None, None),\n",
        "      name='look_ahead_mask')(dec_inputs)\n",
        "\n",
        "  # 두 번째 어텐션 블록에서 인코더의 벡터들을 마스킹\n",
        "  # 디코더에서 패딩을 위한 마스크\n",
        "  dec_padding_mask = tf.keras.layers.Lambda(\n",
        "      create_padding_mask, output_shape=(1, 1, None),\n",
        "      name='dec_padding_mask')(inputs)\n",
        "\n",
        "  # 인코더\n",
        "  enc_outputs = encoder(\n",
        "      vocab_size=vocab_size,\n",
        "      num_layers=num_layers,\n",
        "      units=units,\n",
        "      d_model=d_model,\n",
        "      num_heads=num_heads,\n",
        "      dropout=dropout,\n",
        "  )(inputs=[inputs, enc_padding_mask])\n",
        "\n",
        "  # 디코더\n",
        "  dec_outputs = decoder(\n",
        "      vocab_size=vocab_size,\n",
        "      num_layers=num_layers,\n",
        "      units=units,\n",
        "      d_model=d_model,\n",
        "      num_heads=num_heads,\n",
        "      dropout=dropout,\n",
        "  )(inputs=[dec_inputs, enc_outputs, look_ahead_mask, dec_padding_mask])\n",
        "\n",
        "  # 완전연결층\n",
        "  outputs = tf.keras.layers.Dense(units=vocab_size, name=\"outputs\")(dec_outputs)\n",
        "\n",
        "  return tf.keras.Model(inputs=[inputs, dec_inputs], outputs=outputs, name=name)\n",
        "print(\"슝=3\")"
      ],
      "metadata": {
        "colab": {
          "base_uri": "https://localhost:8080/"
        },
        "id": "8kgDhcIeI2nm",
        "outputId": "cb9d239c-45fa-4648-f9de-fd4e2f5b4a37"
      },
      "execution_count": 18,
      "outputs": [
        {
          "output_type": "stream",
          "name": "stdout",
          "text": [
            "슝=3\n"
          ]
        }
      ]
    },
    {
      "cell_type": "markdown",
      "source": [
        "## B. 모델 생성"
      ],
      "metadata": {
        "id": "Z8d45TjXJLpq"
      }
    },
    {
      "cell_type": "code",
      "source": [
        "import tensorflow as tf\n",
        "import tensorflow_datasets as tfds\n",
        "import numpy as np\n",
        "import pandas as pd\n",
        "import re\n",
        "from sklearn.model_selection import train_test_split\n",
        "\n",
        "# 데이터 로드\n",
        "data = pd.read_csv('ChatbotData.csv')\n",
        "\n",
        "# 데이터 확인\n",
        "print(data.head())\n",
        "\n",
        "# 결측값 제거\n",
        "data = data.dropna()\n",
        "\n",
        "# 한글 외의 문자 제거\n",
        "def clean_text(text):\n",
        "    text = re.sub(r'[^ㄱ-ㅎㅏ-ㅣ가-힣 ]', '', text)\n",
        "    return text\n",
        "\n",
        "data['Q'] = data['Q'].apply(clean_text)\n",
        "data['A'] = data['A'].apply(clean_text)\n",
        "\n",
        "# 공백 제거\n",
        "data['Q'] = data['Q'].str.strip()\n",
        "data['A'] = data['A'].str.strip()\n",
        "\n",
        "# 데이터셋 분할 (훈련 데이터와 테스트 데이터)\n",
        "train_data, test_data = train_test_split(data, test_size=0.2, random_state=42)\n",
        "\n",
        "# 전처리된 데이터 확인\n",
        "print(train_data.head())\n",
        "print(test_data.head())\n",
        "\n",
        "# TensorFlow Datasets SubwordTextEncoder를 사용하여 토크나이저 정의\n",
        "tokenizer = tfds.deprecated.text.SubwordTextEncoder.build_from_corpus(\n",
        "    train_data['Q'].tolist() + train_data['A'].tolist(), target_vocab_size=2**13)\n",
        "\n",
        "# 시작과 끝을 나타내는 토큰 정의\n",
        "START_TOKEN, END_TOKEN = [tokenizer.vocab_size], [tokenizer.vocab_size + 1]\n",
        "\n",
        "# 최대 길이 정의\n",
        "MAX_LENGTH = 40\n",
        "\n",
        "# 문장을 토큰화하고 시작과 끝 토큰 추가\n",
        "def tokenize_and_filter(inputs, outputs):\n",
        "    tokenized_inputs, tokenized_outputs = [], []\n",
        "\n",
        "    for (sentence1, sentence2) in zip(inputs, outputs):\n",
        "        sentence1 = START_TOKEN + tokenizer.encode(sentence1) + END_TOKEN\n",
        "        sentence2 = START_TOKEN + tokenizer.encode(sentence2) + END_TOKEN\n",
        "\n",
        "        if len(sentence1) <= MAX_LENGTH and len(sentence2) <= MAX_LENGTH:\n",
        "            tokenized_inputs.append(sentence1)\n",
        "            tokenized_outputs.append(sentence2)\n",
        "\n",
        "    tokenized_inputs = tf.keras.preprocessing.sequence.pad_sequences(\n",
        "        tokenized_inputs, maxlen=MAX_LENGTH, padding='post')\n",
        "    tokenized_outputs = tf.keras.preprocessing.sequence.pad_sequences(\n",
        "        tokenized_outputs, maxlen=MAX_LENGTH, padding='post')\n",
        "\n",
        "    return tokenized_inputs, tokenized_outputs\n",
        "\n",
        "# 훈련 데이터 토큰화 및 필터링\n",
        "train_inputs, train_outputs = tokenize_and_filter(train_data['Q'], train_data['A'])\n",
        "\n",
        "# 테스트 데이터 토큰화 및 필터링\n",
        "test_inputs, test_outputs = tokenize_and_filter(test_data['Q'], test_data['A'])\n",
        "\n",
        "# 전처리된 데이터 확인\n",
        "print(train_inputs[:5])\n",
        "print(train_outputs[:5])\n",
        "print(test_inputs[:5])\n",
        "print(test_outputs[:5])\n",
        "\n",
        "# 패딩 마스크 생성 함수\n",
        "def create_padding_mask(seq):\n",
        "    seq = tf.cast(tf.math.equal(seq, 0), tf.float32)\n",
        "    return seq[:, tf.newaxis, tf.newaxis, :]\n",
        "\n",
        "# look-ahead 마스크 생성 함수\n",
        "def create_look_ahead_mask(size):\n",
        "    mask = 1 - tf.linalg.band_part(tf.ones((size, size)), -1, 0)\n",
        "    return mask\n",
        "\n",
        "# 인코더 레이어 정의\n",
        "def encoder_layer(units, d_model, num_heads, dropout, name=\"encoder_layer\"):\n",
        "    inputs = tf.keras.Input(shape=(None, d_model), name=\"inputs\")\n",
        "    padding_mask = tf.keras.Input(shape=(1, 1, None), name=\"padding_mask\")\n",
        "\n",
        "    attention = tf.keras.layers.MultiHeadAttention(\n",
        "        num_heads=num_heads, key_dim=d_model, name=\"attention\")(inputs, inputs, inputs, attention_mask=padding_mask)\n",
        "\n",
        "    attention = tf.keras.layers.Dropout(rate=dropout)(attention)\n",
        "    attention = tf.keras.layers.LayerNormalization(epsilon=1e-6)(inputs + attention)\n",
        "\n",
        "    outputs = tf.keras.layers.Dense(units=units, activation='relu')(attention)\n",
        "    outputs = tf.keras.layers.Dense(units=d_model)(outputs)\n",
        "    outputs = tf.keras.layers.Dropout(rate=dropout)(outputs)\n",
        "    outputs = tf.keras.layers.LayerNormalization(epsilon=1e-6)(attention + outputs)\n",
        "\n",
        "    return tf.keras.Model(inputs=[inputs, padding_mask], outputs=outputs, name=name)\n",
        "\n",
        "# 디코더 레이어 정의\n",
        "def decoder_layer(units, d_model, num_heads, dropout, name=\"decoder_layer\"):\n",
        "    inputs = tf.keras.Input(shape=(None, d_model), name=\"inputs\")\n",
        "    enc_outputs = tf.keras.Input(shape=(None, d_model), name=\"encoder_outputs\")\n",
        "    look_ahead_mask = tf.keras.Input(shape=(1, None, None), name=\"look_ahead_mask\")\n",
        "    padding_mask = tf.keras.Input(shape=(1, 1, None), name=\"padding_mask\")\n",
        "\n",
        "    attention1 = tf.keras.layers.MultiHeadAttention(\n",
        "        num_heads=num_heads, key_dim=d_model, name=\"attention_1\")(inputs, inputs, inputs, attention_mask=look_ahead_mask)\n",
        "\n",
        "    attention1 = tf.keras.layers.LayerNormalization(epsilon=1e-6)(attention1 + inputs)\n",
        "\n",
        "    attention2 = tf.keras.layers.MultiHeadAttention(\n",
        "        num_heads=num_heads, key_dim=d_model, name=\"attention_2\")(attention1, enc_outputs, enc_outputs, attention_mask=padding_mask)\n",
        "\n",
        "    attention2 = tf.keras.layers.Dropout(rate=dropout)(attention2)\n",
        "    attention2 = tf.keras.layers.LayerNormalization(epsilon=1e-6)(attention2 + attention1)\n",
        "\n",
        "    outputs = tf.keras.layers.Dense(units=units, activation='relu')(attention2)\n",
        "    outputs = tf.keras.layers.Dense(units=d_model)(outputs)\n",
        "    outputs = tf.keras.layers.Dropout(rate=dropout)(outputs)\n",
        "    outputs = tf.keras.layers.LayerNormalization(epsilon=1e-6)(outputs + attention2)\n",
        "\n",
        "    return tf.keras.Model(inputs=[inputs, enc_outputs, look_ahead_mask, padding_mask], outputs=outputs, name=name)\n",
        "\n",
        "# 인코더 정의\n",
        "def encoder(vocab_size, num_layers, units, d_model, num_heads, dropout, name=\"encoder\"):\n",
        "    inputs = tf.keras.Input(shape=(None,), name=\"inputs\")\n",
        "    padding_mask = tf.keras.Input(shape=(1, 1, None), name=\"padding_mask\")\n",
        "\n",
        "    embeddings = tf.keras.layers.Embedding(vocab_size, d_model)(inputs)\n",
        "    embeddings *= tf.math.sqrt(tf.cast(d_model, tf.float32))\n",
        "    embeddings = tf.keras.layers.Dropout(rate=dropout)(embeddings)\n",
        "\n",
        "    outputs = embeddings\n",
        "\n",
        "    for i in range(num_layers):\n",
        "        outputs = encoder_layer(units=units, d_model=d_model, num_heads=num_heads, dropout=dropout, name=f\"encoder_layer_{i}\")([outputs, padding_mask])\n",
        "\n",
        "    return tf.keras.Model(inputs=[inputs, padding_mask], outputs=outputs, name=name)\n",
        "\n",
        "# 디코더 정의\n",
        "def decoder(vocab_size, num_layers, units, d_model, num_heads, dropout, name='decoder'):\n",
        "    inputs = tf.keras.Input(shape=(None,), name='inputs')\n",
        "    enc_outputs = tf.keras.Input(shape=(None, d_model), name='encoder_outputs')\n",
        "    look_ahead_mask = tf.keras.Input(shape=(1, None, None), name='look_ahead_mask')\n",
        "    padding_mask = tf.keras.Input(shape=(1, 1, None), name='padding_mask')\n",
        "\n",
        "    embeddings = tf.keras.layers.Embedding(vocab_size, d_model)(inputs)\n",
        "    embeddings *= tf.math.sqrt(tf.cast(d_model, tf.float32))\n",
        "    embeddings = tf.keras.layers.Dropout(rate=dropout)(embeddings)\n",
        "\n",
        "    outputs = embeddings\n",
        "\n",
        "    for i in range(num_layers):\n",
        "        outputs = decoder_layer(units=units, d_model=d_model, num_heads=num_heads, dropout=dropout, name=f\"decoder_layer_{i}\")([outputs, enc_outputs, look_ahead_mask, padding_mask])\n",
        "\n",
        "    return tf.keras.Model(inputs=[inputs, enc_outputs, look_ahead_mask, padding_mask], outputs=outputs, name=name)\n",
        "\n",
        "# 트랜스포머 모델 정의 함수\n",
        "def transformer(vocab_size,\n",
        "                num_layers,\n",
        "                units,\n",
        "                d_model,\n",
        "                num_heads,\n",
        "                dropout,\n",
        "                name=\"transformer\"):\n",
        "    inputs = tf.keras.Input(shape=(None,), name=\"inputs\")\n",
        "    dec_inputs = tf.keras.Input(shape=(None,), name=\"dec_inputs\")\n",
        "\n",
        "    # 인코더에서 패딩을 위한 마스크\n",
        "    enc_padding_mask = tf.keras.layers.Lambda(\n",
        "        create_padding_mask, output_shape=(1, 1, None),\n",
        "        name='enc_padding_mask')(inputs)\n",
        "\n",
        "    # 디코더에서 미래의 토큰을 마스크 하기 위해서 사용합니다.\n",
        "    # 내부적으로 패딩 마스크도 포함되어져 있습니다.\n",
        "    look_ahead_mask = tf.keras.layers.Lambda(\n",
        "        create_look_ahead_mask,\n",
        "        output_shape=(1, None, None),\n",
        "        name='look_ahead_mask')(dec_inputs)\n",
        "\n",
        "    # 두 번째 어텐션 블록에서 인코더의 벡터들을 마스킹\n",
        "    dec_padding_mask = tf.keras.layers.Lambda(\n",
        "        create_padding_mask, output_shape=(1, 1, None),\n",
        "        name='dec_padding_mask')(inputs)\n",
        "\n",
        "    enc_outputs = encoder(vocab_size=vocab_size, num_layers=num_layers, units=units,\n",
        "                          d_model=d_model, num_heads=num_heads, dropout=dropout)(inputs=[inputs, enc_padding_mask])\n",
        "\n",
        "    dec_outputs = decoder(vocab_size=vocab_size, num_layers=num_layers, units=units,\n",
        "                          d_model=d_model, num_heads=num_heads, dropout=dropout)(\n",
        "        inputs=[dec_inputs, enc_outputs, look_ahead_mask, dec_padding_mask])\n",
        "\n",
        "    outputs = tf.keras.layers.Dense(units=vocab_size, name=\"outputs\")(dec_outputs)\n",
        "\n",
        "    return tf.keras.Model(inputs=[inputs, dec_inputs], outputs=outputs, name=name)\n",
        "\n",
        "# 하이퍼파라미터 설정\n",
        "num_layers = 2\n",
        "d_model = 256\n",
        "num_heads = 8\n",
        "units = 512\n",
        "dropout = 0.1\n",
        "\n",
        "# vocab_size는 시작과 끝 토큰을 고려하여 +2\n",
        "vocab_size = tokenizer.vocab_size + 2\n",
        "\n",
        "# 트랜스포머 모델 생성\n",
        "model = transformer(vocab_size=vocab_size,\n",
        "                    num_layers=num_layers,\n",
        "                    units=units,\n",
        "                    d_model=d_model,\n",
        "                    num_heads=num_heads,\n",
        "                    dropout=dropout)\n",
        "\n",
        "# 모델 요약 출력\n",
        "model.summary()\n"
      ],
      "metadata": {
        "colab": {
          "base_uri": "https://localhost:8080/",
          "height": 1000
        },
        "id": "YQOAZesBpSi4",
        "outputId": "08e0f8ff-d805-46e8-8474-b0f797737cae"
      },
      "execution_count": 40,
      "outputs": [
        {
          "output_type": "stream",
          "name": "stdout",
          "text": [
            "                 Q            A  label\n",
            "0           12시 땡!   하루가 또 가네요.      0\n",
            "1      1지망 학교 떨어졌어    위로해 드립니다.      0\n",
            "2     3박4일 놀러가고 싶다  여행은 언제나 좋죠.      0\n",
            "3  3박4일 정도 놀러가고 싶다  여행은 언제나 좋죠.      0\n",
            "4          PPL 심하네   눈살이 찌푸려지죠.      0\n",
            "                      Q                 A  label\n",
            "10512           엄청 로맨틱해       생각만해도 달콤하네요      2\n",
            "1199         대리님이 너무 갈궈      더 웃으면서 대해보세요      0\n",
            "9841   사내커플인데 비밀연애임 답답해  비밀연애가 말도 못하고 힘들죠      2\n",
            "5595        그 사람이 참 그리워            사랑했나봐요      1\n",
            "7228                  왜             궁금하네요      1\n",
            "               Q             A  label\n",
            "8169      죽을거 같네  나쁜 생각 하지 마세요      1\n",
            "900      내일 시험이야    컨디션 조절 하세요      0\n",
            "8075  정말내 자신이 싫다    자신은 사랑해주세요      1\n",
            "7625     이별후 네달째  바쁘게 살면서 잊어가요      1\n",
            "2816     쌍커풀 해볼까       눈은 기본이죠      0\n",
            "[[8718  409 7724 8719    0    0    0    0    0    0    0    0    0    0\n",
            "     0    0    0    0    0    0    0    0    0    0    0    0    0    0\n",
            "     0    0    0    0    0    0    0    0    0    0    0    0]\n",
            " [8718 2675 2686   13    3  581 4197 8719    0    0    0    0    0    0\n",
            "     0    0    0    0    0    0    0    0    0    0    0    0    0    0\n",
            "     0    0    0    0    0    0    0    0    0    0    0    0]\n",
            " [8718 3086 2409  234 7322  630 8494 1531 8719    0    0    0    0    0\n",
            "     0    0    0    0    0    0    0    0    0    0    0    0    0    0\n",
            "     0    0    0    0    0    0    0    0    0    0    0    0]\n",
            " [8718   53   36  165 1757 8719    0    0    0    0    0    0    0    0\n",
            "     0    0    0    0    0    0    0    0    0    0    0    0    0    0\n",
            "     0    0    0    0    0    0    0    0    0    0    0    0]\n",
            " [8718 2947 8719    0    0    0    0    0    0    0    0    0    0    0\n",
            "     0    0    0    0    0    0    0    0    0    0    0    0    0    0\n",
            "     0    0    0    0    0    0    0    0    0    0    0    0]]\n",
            "[[8718 3063  435 8698 8651 8626 1280 8719    0    0    0    0    0    0\n",
            "     0    0    0    0    0    0    0    0    0    0    0    0    0    0\n",
            "     0    0    0    0    0    0    0    0    0    0    0    0]\n",
            " [8718    6 4777 4084 8719    0    0    0    0    0    0    0    0    0\n",
            "     0    0    0    0    0    0    0    0    0    0    0    0    0    0\n",
            "     0    0    0    0    0    0    0    0    0    0    0    0]\n",
            " [8718 7322   29 1135 1131  859 8719    0    0    0    0    0    0    0\n",
            "     0    0    0    0    0    0    0    0    0    0    0    0    0    0\n",
            "     0    0    0    0    0    0    0    0    0    0    0    0]\n",
            " [8718 2222 8719    0    0    0    0    0    0    0    0    0    0    0\n",
            "     0    0    0    0    0    0    0    0    0    0    0    0    0    0\n",
            "     0    0    0    0    0    0    0    0    0    0    0    0]\n",
            " [8718 1150 8719    0    0    0    0    0    0    0    0    0    0    0\n",
            "     0    0    0    0    0    0    0    0    0    0    0    0    0    0\n",
            "     0    0    0    0    0    0    0    0    0    0    0    0]]\n",
            "[[8718 4571    5 1396 8719    0    0    0    0    0    0    0    0    0\n",
            "     0    0    0    0    0    0    0    0    0    0    0    0    0    0\n",
            "     0    0    0    0    0    0    0    0    0    0    0    0]\n",
            " [8718  314  213 1784  759 8719    0    0    0    0    0    0    0    0\n",
            "     0    0    0    0    0    0    0    0    0    0    0    0    0    0\n",
            "     0    0    0    0    0    0    0    0    0    0    0    0]\n",
            " [8718 2111   51  427 1111 8719    0    0    0    0    0    0    0    0\n",
            "     0    0    0    0    0    0    0    0    0    0    0    0    0    0\n",
            "     0    0    0    0    0    0    0    0    0    0    0    0]\n",
            " [8718 1089   37 2679 8719    0    0    0    0    0    0    0    0    0\n",
            "     0    0    0    0    0    0    0    0    0    0    0    0    0    0\n",
            "     0    0    0    0    0    0    0    0    0    0    0    0]\n",
            " [8718 8698 8602 8603 1415 1588 8494  239 8719    0    0    0    0    0\n",
            "     0    0    0    0    0    0    0    0    0    0    0    0    0    0\n",
            "     0    0    0    0    0    0    0    0    0    0    0    0]]\n",
            "[[8718  418  345  140   31 8719    0    0    0    0    0    0    0    0\n",
            "     0    0    0    0    0    0    0    0    0    0    0    0    0    0\n",
            "     0    0    0    0    0    0    0    0    0    0    0    0]\n",
            " [8718 2408 6365   77 8719    0    0    0    0    0    0    0    0    0\n",
            "     0    0    0    0    0    0    0    0    0    0    0    0    0    0\n",
            "     0    0    0    0    0    0    0    0    0    0    0    0]\n",
            " [8718 1309   35  718 8719    0    0    0    0    0    0    0    0    0\n",
            "     0    0    0    0    0    0    0    0    0    0    0    0    0    0\n",
            "     0    0    0    0    0    0    0    0    0    0    0    0]\n",
            " [8718 2250 7240 1188  522 8719    0    0    0    0    0    0    0    0\n",
            "     0    0    0    0    0    0    0    0    0    0    0    0    0    0\n",
            "     0    0    0    0    0    0    0    0    0    0    0    0]\n",
            " [8718 5548 8208 8719    0    0    0    0    0    0    0    0    0    0\n",
            "     0    0    0    0    0    0    0    0    0    0    0    0    0    0\n",
            "     0    0    0    0    0    0    0    0    0    0    0    0]]\n"
          ]
        },
        {
          "output_type": "display_data",
          "data": {
            "text/plain": [
              "\u001b[1mModel: \"transformer\"\u001b[0m\n"
            ],
            "text/html": [
              "<pre style=\"white-space:pre;overflow-x:auto;line-height:normal;font-family:Menlo,'DejaVu Sans Mono',consolas,'Courier New',monospace\"><span style=\"font-weight: bold\">Model: \"transformer\"</span>\n",
              "</pre>\n"
            ]
          },
          "metadata": {}
        },
        {
          "output_type": "display_data",
          "data": {
            "text/plain": [
              "┏━━━━━━━━━━━━━━━━━━━━━━━━━━━┳━━━━━━━━━━━━━━━━━━━━━━━━┳━━━━━━━━━━━━━━━━┳━━━━━━━━━━━━━━━━━━━━━━━━┓\n",
              "┃\u001b[1m \u001b[0m\u001b[1mLayer (type)             \u001b[0m\u001b[1m \u001b[0m┃\u001b[1m \u001b[0m\u001b[1mOutput Shape          \u001b[0m\u001b[1m \u001b[0m┃\u001b[1m \u001b[0m\u001b[1m       Param #\u001b[0m\u001b[1m \u001b[0m┃\u001b[1m \u001b[0m\u001b[1mConnected to          \u001b[0m\u001b[1m \u001b[0m┃\n",
              "┡━━━━━━━━━━━━━━━━━━━━━━━━━━━╇━━━━━━━━━━━━━━━━━━━━━━━━╇━━━━━━━━━━━━━━━━╇━━━━━━━━━━━━━━━━━━━━━━━━┩\n",
              "│ inputs (\u001b[38;5;33mInputLayer\u001b[0m)       │ (\u001b[38;5;45mNone\u001b[0m, \u001b[38;5;45mNone\u001b[0m)           │              \u001b[38;5;34m0\u001b[0m │ -                      │\n",
              "├───────────────────────────┼────────────────────────┼────────────────┼────────────────────────┤\n",
              "│ dec_inputs (\u001b[38;5;33mInputLayer\u001b[0m)   │ (\u001b[38;5;45mNone\u001b[0m, \u001b[38;5;45mNone\u001b[0m)           │              \u001b[38;5;34m0\u001b[0m │ -                      │\n",
              "├───────────────────────────┼────────────────────────┼────────────────┼────────────────────────┤\n",
              "│ enc_padding_mask (\u001b[38;5;33mLambda\u001b[0m) │ (\u001b[38;5;45mNone\u001b[0m, \u001b[38;5;34m1\u001b[0m, \u001b[38;5;34m1\u001b[0m, \u001b[38;5;45mNone\u001b[0m)     │              \u001b[38;5;34m0\u001b[0m │ inputs[\u001b[38;5;34m0\u001b[0m][\u001b[38;5;34m0\u001b[0m]           │\n",
              "├───────────────────────────┼────────────────────────┼────────────────┼────────────────────────┤\n",
              "│ encoder (\u001b[38;5;33mFunctional\u001b[0m)      │ (\u001b[38;5;45mNone\u001b[0m, \u001b[38;5;45mNone\u001b[0m, \u001b[38;5;34m256\u001b[0m)      │      \u001b[38;5;34m6,967,296\u001b[0m │ inputs[\u001b[38;5;34m0\u001b[0m][\u001b[38;5;34m0\u001b[0m],          │\n",
              "│                           │                        │                │ enc_padding_mask[\u001b[38;5;34m0\u001b[0m][\u001b[38;5;34m0\u001b[0m] │\n",
              "├───────────────────────────┼────────────────────────┼────────────────┼────────────────────────┤\n",
              "│ look_ahead_mask (\u001b[38;5;33mLambda\u001b[0m)  │ (\u001b[38;5;45mNone\u001b[0m, \u001b[38;5;34m1\u001b[0m, \u001b[38;5;45mNone\u001b[0m, \u001b[38;5;45mNone\u001b[0m)  │              \u001b[38;5;34m0\u001b[0m │ dec_inputs[\u001b[38;5;34m0\u001b[0m][\u001b[38;5;34m0\u001b[0m]       │\n",
              "├───────────────────────────┼────────────────────────┼────────────────┼────────────────────────┤\n",
              "│ dec_padding_mask (\u001b[38;5;33mLambda\u001b[0m) │ (\u001b[38;5;45mNone\u001b[0m, \u001b[38;5;34m1\u001b[0m, \u001b[38;5;34m1\u001b[0m, \u001b[38;5;45mNone\u001b[0m)     │              \u001b[38;5;34m0\u001b[0m │ inputs[\u001b[38;5;34m0\u001b[0m][\u001b[38;5;34m0\u001b[0m]           │\n",
              "├───────────────────────────┼────────────────────────┼────────────────┼────────────────────────┤\n",
              "│ decoder (\u001b[38;5;33mFunctional\u001b[0m)      │ (\u001b[38;5;45mNone\u001b[0m, \u001b[38;5;45mNone\u001b[0m, \u001b[38;5;34m256\u001b[0m)      │     \u001b[38;5;34m11,175,424\u001b[0m │ dec_inputs[\u001b[38;5;34m0\u001b[0m][\u001b[38;5;34m0\u001b[0m],      │\n",
              "│                           │                        │                │ encoder[\u001b[38;5;34m0\u001b[0m][\u001b[38;5;34m0\u001b[0m],         │\n",
              "│                           │                        │                │ look_ahead_mask[\u001b[38;5;34m0\u001b[0m][\u001b[38;5;34m0\u001b[0m], │\n",
              "│                           │                        │                │ dec_padding_mask[\u001b[38;5;34m0\u001b[0m][\u001b[38;5;34m0\u001b[0m] │\n",
              "├───────────────────────────┼────────────────────────┼────────────────┼────────────────────────┤\n",
              "│ outputs (\u001b[38;5;33mDense\u001b[0m)           │ (\u001b[38;5;45mNone\u001b[0m, \u001b[38;5;45mNone\u001b[0m, \u001b[38;5;34m8720\u001b[0m)     │      \u001b[38;5;34m2,241,040\u001b[0m │ decoder[\u001b[38;5;34m0\u001b[0m][\u001b[38;5;34m0\u001b[0m]          │\n",
              "└───────────────────────────┴────────────────────────┴────────────────┴────────────────────────┘\n"
            ],
            "text/html": [
              "<pre style=\"white-space:pre;overflow-x:auto;line-height:normal;font-family:Menlo,'DejaVu Sans Mono',consolas,'Courier New',monospace\">┏━━━━━━━━━━━━━━━━━━━━━━━━━━━┳━━━━━━━━━━━━━━━━━━━━━━━━┳━━━━━━━━━━━━━━━━┳━━━━━━━━━━━━━━━━━━━━━━━━┓\n",
              "┃<span style=\"font-weight: bold\"> Layer (type)              </span>┃<span style=\"font-weight: bold\"> Output Shape           </span>┃<span style=\"font-weight: bold\">        Param # </span>┃<span style=\"font-weight: bold\"> Connected to           </span>┃\n",
              "┡━━━━━━━━━━━━━━━━━━━━━━━━━━━╇━━━━━━━━━━━━━━━━━━━━━━━━╇━━━━━━━━━━━━━━━━╇━━━━━━━━━━━━━━━━━━━━━━━━┩\n",
              "│ inputs (<span style=\"color: #0087ff; text-decoration-color: #0087ff\">InputLayer</span>)       │ (<span style=\"color: #00d7ff; text-decoration-color: #00d7ff\">None</span>, <span style=\"color: #00d7ff; text-decoration-color: #00d7ff\">None</span>)           │              <span style=\"color: #00af00; text-decoration-color: #00af00\">0</span> │ -                      │\n",
              "├───────────────────────────┼────────────────────────┼────────────────┼────────────────────────┤\n",
              "│ dec_inputs (<span style=\"color: #0087ff; text-decoration-color: #0087ff\">InputLayer</span>)   │ (<span style=\"color: #00d7ff; text-decoration-color: #00d7ff\">None</span>, <span style=\"color: #00d7ff; text-decoration-color: #00d7ff\">None</span>)           │              <span style=\"color: #00af00; text-decoration-color: #00af00\">0</span> │ -                      │\n",
              "├───────────────────────────┼────────────────────────┼────────────────┼────────────────────────┤\n",
              "│ enc_padding_mask (<span style=\"color: #0087ff; text-decoration-color: #0087ff\">Lambda</span>) │ (<span style=\"color: #00d7ff; text-decoration-color: #00d7ff\">None</span>, <span style=\"color: #00af00; text-decoration-color: #00af00\">1</span>, <span style=\"color: #00af00; text-decoration-color: #00af00\">1</span>, <span style=\"color: #00d7ff; text-decoration-color: #00d7ff\">None</span>)     │              <span style=\"color: #00af00; text-decoration-color: #00af00\">0</span> │ inputs[<span style=\"color: #00af00; text-decoration-color: #00af00\">0</span>][<span style=\"color: #00af00; text-decoration-color: #00af00\">0</span>]           │\n",
              "├───────────────────────────┼────────────────────────┼────────────────┼────────────────────────┤\n",
              "│ encoder (<span style=\"color: #0087ff; text-decoration-color: #0087ff\">Functional</span>)      │ (<span style=\"color: #00d7ff; text-decoration-color: #00d7ff\">None</span>, <span style=\"color: #00d7ff; text-decoration-color: #00d7ff\">None</span>, <span style=\"color: #00af00; text-decoration-color: #00af00\">256</span>)      │      <span style=\"color: #00af00; text-decoration-color: #00af00\">6,967,296</span> │ inputs[<span style=\"color: #00af00; text-decoration-color: #00af00\">0</span>][<span style=\"color: #00af00; text-decoration-color: #00af00\">0</span>],          │\n",
              "│                           │                        │                │ enc_padding_mask[<span style=\"color: #00af00; text-decoration-color: #00af00\">0</span>][<span style=\"color: #00af00; text-decoration-color: #00af00\">0</span>] │\n",
              "├───────────────────────────┼────────────────────────┼────────────────┼────────────────────────┤\n",
              "│ look_ahead_mask (<span style=\"color: #0087ff; text-decoration-color: #0087ff\">Lambda</span>)  │ (<span style=\"color: #00d7ff; text-decoration-color: #00d7ff\">None</span>, <span style=\"color: #00af00; text-decoration-color: #00af00\">1</span>, <span style=\"color: #00d7ff; text-decoration-color: #00d7ff\">None</span>, <span style=\"color: #00d7ff; text-decoration-color: #00d7ff\">None</span>)  │              <span style=\"color: #00af00; text-decoration-color: #00af00\">0</span> │ dec_inputs[<span style=\"color: #00af00; text-decoration-color: #00af00\">0</span>][<span style=\"color: #00af00; text-decoration-color: #00af00\">0</span>]       │\n",
              "├───────────────────────────┼────────────────────────┼────────────────┼────────────────────────┤\n",
              "│ dec_padding_mask (<span style=\"color: #0087ff; text-decoration-color: #0087ff\">Lambda</span>) │ (<span style=\"color: #00d7ff; text-decoration-color: #00d7ff\">None</span>, <span style=\"color: #00af00; text-decoration-color: #00af00\">1</span>, <span style=\"color: #00af00; text-decoration-color: #00af00\">1</span>, <span style=\"color: #00d7ff; text-decoration-color: #00d7ff\">None</span>)     │              <span style=\"color: #00af00; text-decoration-color: #00af00\">0</span> │ inputs[<span style=\"color: #00af00; text-decoration-color: #00af00\">0</span>][<span style=\"color: #00af00; text-decoration-color: #00af00\">0</span>]           │\n",
              "├───────────────────────────┼────────────────────────┼────────────────┼────────────────────────┤\n",
              "│ decoder (<span style=\"color: #0087ff; text-decoration-color: #0087ff\">Functional</span>)      │ (<span style=\"color: #00d7ff; text-decoration-color: #00d7ff\">None</span>, <span style=\"color: #00d7ff; text-decoration-color: #00d7ff\">None</span>, <span style=\"color: #00af00; text-decoration-color: #00af00\">256</span>)      │     <span style=\"color: #00af00; text-decoration-color: #00af00\">11,175,424</span> │ dec_inputs[<span style=\"color: #00af00; text-decoration-color: #00af00\">0</span>][<span style=\"color: #00af00; text-decoration-color: #00af00\">0</span>],      │\n",
              "│                           │                        │                │ encoder[<span style=\"color: #00af00; text-decoration-color: #00af00\">0</span>][<span style=\"color: #00af00; text-decoration-color: #00af00\">0</span>],         │\n",
              "│                           │                        │                │ look_ahead_mask[<span style=\"color: #00af00; text-decoration-color: #00af00\">0</span>][<span style=\"color: #00af00; text-decoration-color: #00af00\">0</span>], │\n",
              "│                           │                        │                │ dec_padding_mask[<span style=\"color: #00af00; text-decoration-color: #00af00\">0</span>][<span style=\"color: #00af00; text-decoration-color: #00af00\">0</span>] │\n",
              "├───────────────────────────┼────────────────────────┼────────────────┼────────────────────────┤\n",
              "│ outputs (<span style=\"color: #0087ff; text-decoration-color: #0087ff\">Dense</span>)           │ (<span style=\"color: #00d7ff; text-decoration-color: #00d7ff\">None</span>, <span style=\"color: #00d7ff; text-decoration-color: #00d7ff\">None</span>, <span style=\"color: #00af00; text-decoration-color: #00af00\">8720</span>)     │      <span style=\"color: #00af00; text-decoration-color: #00af00\">2,241,040</span> │ decoder[<span style=\"color: #00af00; text-decoration-color: #00af00\">0</span>][<span style=\"color: #00af00; text-decoration-color: #00af00\">0</span>]          │\n",
              "└───────────────────────────┴────────────────────────┴────────────────┴────────────────────────┘\n",
              "</pre>\n"
            ]
          },
          "metadata": {}
        },
        {
          "output_type": "display_data",
          "data": {
            "text/plain": [
              "\u001b[1m Total params: \u001b[0m\u001b[38;5;34m20,383,760\u001b[0m (77.76 MB)\n"
            ],
            "text/html": [
              "<pre style=\"white-space:pre;overflow-x:auto;line-height:normal;font-family:Menlo,'DejaVu Sans Mono',consolas,'Courier New',monospace\"><span style=\"font-weight: bold\"> Total params: </span><span style=\"color: #00af00; text-decoration-color: #00af00\">20,383,760</span> (77.76 MB)\n",
              "</pre>\n"
            ]
          },
          "metadata": {}
        },
        {
          "output_type": "display_data",
          "data": {
            "text/plain": [
              "\u001b[1m Trainable params: \u001b[0m\u001b[38;5;34m20,383,760\u001b[0m (77.76 MB)\n"
            ],
            "text/html": [
              "<pre style=\"white-space:pre;overflow-x:auto;line-height:normal;font-family:Menlo,'DejaVu Sans Mono',consolas,'Courier New',monospace\"><span style=\"font-weight: bold\"> Trainable params: </span><span style=\"color: #00af00; text-decoration-color: #00af00\">20,383,760</span> (77.76 MB)\n",
              "</pre>\n"
            ]
          },
          "metadata": {}
        },
        {
          "output_type": "display_data",
          "data": {
            "text/plain": [
              "\u001b[1m Non-trainable params: \u001b[0m\u001b[38;5;34m0\u001b[0m (0.00 B)\n"
            ],
            "text/html": [
              "<pre style=\"white-space:pre;overflow-x:auto;line-height:normal;font-family:Menlo,'DejaVu Sans Mono',consolas,'Courier New',monospace\"><span style=\"font-weight: bold\"> Non-trainable params: </span><span style=\"color: #00af00; text-decoration-color: #00af00\">0</span> (0.00 B)\n",
              "</pre>\n"
            ]
          },
          "metadata": {}
        }
      ]
    },
    {
      "cell_type": "markdown",
      "source": [
        "### 모델 구조 정리\n",
        "\n",
        "#### 위 Transformer 모델은 총 20,383,760개의 파라미터를 가지고 있으며 인코더와 디코더로 구성되어 있다. 각 레이어는 멀티-헤드 어텐션과 피드 포워드 신경망으로 이루어져 있으며 입력 시퀀스를 인코딩하고 디코딩하여 최종 출력을 생성한다.\n",
        "\n",
        "#### 입력 레이어 (inputs, dec_inputs):\n",
        "inputs: 입력 시퀀스를 받는 레이어\n",
        "dec_inputs: 디코더 입력 시퀀스를 받는 레이어\n",
        "\n",
        "#### 마스크 레이어 (enc_padding_mask, look_ahead_mask, dec_padding_mask):\n",
        "enc_padding_mask: 인코더에서 패딩을 위한 마스크를 생성\n",
        "look_ahead_mask: 디코더에서 미래의 토큰을 마스크하기 위한 마스크를 생성\n",
        "dec_padding_mask: 디코더에서 인코더의 벡터들을 마스킹하기 위한 마스크를 생성\n",
        "\n",
        "#### 인코더 (encoder):\n",
        "인코더는 입력 시퀀스와 패딩 마스크를 받아서 인코딩된 출력 벡터를 생성\n",
        "인코더는 여러 개의 인코더 레이어로 구성되어 있으며 각 레이어는 멀티-헤드 어텐션과 피드 포워드 신경망으로 구성\n",
        "파라미터 수: 6,967,296\n",
        "\n",
        "#### 디코더 (decoder):\n",
        "디코더는 디코더 입력 시퀀스, 인코더 출력, look-ahead 마스크, 패딩 마스크를 받아서 디코딩된 출력 벡터를 생성\n",
        "디코더는 여러 개의 디코더 레이어로 구성되어 있으며 각 레이어는 두 개의 멀티-헤드 어텐션과 피드 포워드 신경망으로 구성\n",
        "파라미터 수: 11,175,424\n",
        "\n",
        "#### 출력 레이어 (outputs):\n",
        "디코더의 출력을 받아서 최종 출력 시퀀스를 생성\n",
        "파라미터 수: 2,241,040\n",
        "\n",
        "#### 총 파라미터 수\n",
        "총 파라미터 수: 20,383,760 (약 77.76 MB)\n",
        "학습 가능한 파라미터 수: 20,383,760\n",
        "학습 불가능한 파라미터 수: 0\n"
      ],
      "metadata": {
        "id": "P0gjW8BaoOnW"
      }
    },
    {
      "cell_type": "markdown",
      "source": [
        "## C. 손실 함수(Loss function)"
      ],
      "metadata": {
        "id": "1_YMEwGssP0g"
      }
    },
    {
      "cell_type": "markdown",
      "source": [
        "#### 레이블인 시퀀스에 패딩이 되어 있으므로, loss를 계산할 때 패딩 마스크를 적용해야 합니다."
      ],
      "metadata": {
        "id": "_wmUBlDQspdF"
      }
    },
    {
      "cell_type": "code",
      "source": [
        "def loss_function(y_true, y_pred):\n",
        "    # Remove the last token from y_true\n",
        "    y_true = tf.reshape(y_true, shape=(-1, MAX_LENGTH - 1))\n",
        "\n",
        "    # Remove the predictions for the last token from y_pred\n",
        "    y_pred = y_pred[:, :-1, :]\n",
        "\n",
        "    loss = tf.keras.losses.SparseCategoricalCrossentropy(\n",
        "        from_logits=True, reduction='none')(y_true, y_pred)\n",
        "\n",
        "    mask = tf.cast(tf.not_equal(y_true, 0), tf.float32)\n",
        "    loss = tf.multiply(loss, mask)\n",
        "    return tf.reduce_mean(loss)\n",
        "\n"
      ],
      "metadata": {
        "id": "j6e1JjaEsA7k"
      },
      "execution_count": 41,
      "outputs": []
    },
    {
      "cell_type": "markdown",
      "source": [
        "## D. 커스텀 된 학습률(Learning Rate)\n",
        "### 모델학습 초기에 learning rate를 급격히 높였다가, 이후 train step이 진행됨에 따라 서서히 낮추어 가면서 안정적으로 수렴하게 하는 고급 기법을 널리 사용하고 있는데 이런 방법을 커스텀 학습률 스케줄링(Custom Learning rate Scheduling)"
      ],
      "metadata": {
        "id": "yjGLtpbFszpd"
      }
    },
    {
      "cell_type": "code",
      "source": [
        "class CustomSchedule(tf.keras.optimizers.schedules.LearningRateSchedule):\n",
        "\n",
        "  def __init__(self, d_model, warmup_steps=4000):\n",
        "    super(CustomSchedule, self).__init__()\n",
        "\n",
        "    self.d_model = d_model\n",
        "    self.d_model = tf.cast(self.d_model, tf.float32)\n",
        "\n",
        "    self.warmup_steps = warmup_steps\n",
        "\n",
        "  def __call__(self, step):\n",
        "    step = tf.cast(step, tf.float32)  # 여기서 step을 float32로 변환\n",
        "    arg1 = tf.math.rsqrt(step)\n",
        "    arg2 = step * (self.warmup_steps**-1.5)\n",
        "\n",
        "    return tf.math.rsqrt(self.d_model) * tf.math.minimum(arg1, arg2)\n"
      ],
      "metadata": {
        "id": "9QKXICW2tHPw"
      },
      "execution_count": 42,
      "outputs": []
    },
    {
      "cell_type": "code",
      "source": [
        "!pip install matplotlib\n",
        "import matplotlib.pyplot as plt\n",
        "\n",
        "sample_learning_rate = CustomSchedule(d_model=128)\n",
        "\n",
        "plt.plot(sample_learning_rate(tf.range(200000, dtype=tf.float32))) # Now plt is defined and can be used\n",
        "plt.ylabel(\"Learning Rate\")\n",
        "plt.xlabel(\"Train Step\")"
      ],
      "metadata": {
        "colab": {
          "base_uri": "https://localhost:8080/",
          "height": 657
        },
        "id": "xA1kebYrt-et",
        "outputId": "ca510400-1f01-496a-f9f9-8accd2bdb9b8"
      },
      "execution_count": 43,
      "outputs": [
        {
          "output_type": "stream",
          "name": "stdout",
          "text": [
            "Requirement already satisfied: matplotlib in /usr/local/lib/python3.10/dist-packages (3.7.1)\n",
            "Requirement already satisfied: contourpy>=1.0.1 in /usr/local/lib/python3.10/dist-packages (from matplotlib) (1.2.1)\n",
            "Requirement already satisfied: cycler>=0.10 in /usr/local/lib/python3.10/dist-packages (from matplotlib) (0.12.1)\n",
            "Requirement already satisfied: fonttools>=4.22.0 in /usr/local/lib/python3.10/dist-packages (from matplotlib) (4.53.1)\n",
            "Requirement already satisfied: kiwisolver>=1.0.1 in /usr/local/lib/python3.10/dist-packages (from matplotlib) (1.4.5)\n",
            "Requirement already satisfied: numpy>=1.20 in /usr/local/lib/python3.10/dist-packages (from matplotlib) (1.26.4)\n",
            "Requirement already satisfied: packaging>=20.0 in /usr/local/lib/python3.10/dist-packages (from matplotlib) (24.1)\n",
            "Requirement already satisfied: pillow>=6.2.0 in /usr/local/lib/python3.10/dist-packages (from matplotlib) (9.4.0)\n",
            "Requirement already satisfied: pyparsing>=2.3.1 in /usr/local/lib/python3.10/dist-packages (from matplotlib) (3.1.2)\n",
            "Requirement already satisfied: python-dateutil>=2.7 in /usr/local/lib/python3.10/dist-packages (from matplotlib) (2.8.2)\n",
            "Requirement already satisfied: six>=1.5 in /usr/local/lib/python3.10/dist-packages (from python-dateutil>=2.7->matplotlib) (1.16.0)\n"
          ]
        },
        {
          "output_type": "execute_result",
          "data": {
            "text/plain": [
              "Text(0.5, 0, 'Train Step')"
            ]
          },
          "metadata": {},
          "execution_count": 43
        },
        {
          "output_type": "display_data",
          "data": {
            "text/plain": [
              "<Figure size 640x480 with 1 Axes>"
            ],
            "image/png": "[encoded data removed]"
          },
          "metadata": {}
        }
      ]
    },
    {
      "cell_type": "markdown",
      "source": [
        "### 학습 초기에는 learning_rate가 Train Step수에 비례해서 증가하다가 이후로는 감소하는 것을 확인할 수 있다."
      ],
      "metadata": {
        "id": "f66Pwj9dEayZ"
      }
    },
    {
      "cell_type": "markdown",
      "source": [
        "## E. 모델 컴파일"
      ],
      "metadata": {
        "id": "gExPsaR_uJ5T"
      }
    },
    {
      "cell_type": "code",
      "source": [
        "learning_rate = CustomSchedule(d_model)\n",
        "\n",
        "optimizer = tf.keras.optimizers.Adam(\n",
        "    learning_rate, beta_1=0.9, beta_2=0.98, epsilon=1e-9)\n",
        "\n",
        "def accuracy(y_true, y_pred):\n",
        "  # y_pred의 마지막 타임스텝 제거\n",
        "  y_pred = y_pred[:, :MAX_LENGTH - 1, :]\n",
        "  y_true = tf.reshape(y_true, shape=(-1, MAX_LENGTH - 1))\n",
        "  return tf.keras.metrics.sparse_categorical_accuracy(y_true, y_pred)\n",
        "\n",
        "\n",
        "model.compile(optimizer=optimizer, loss=loss_function, metrics=[accuracy])\n",
        "print(\"슝=3\")"
      ],
      "metadata": {
        "colab": {
          "base_uri": "https://localhost:8080/"
        },
        "id": "jwgjd8BvuUIA",
        "outputId": "11e9f188-23df-4636-930e-a18ba0d9c61b",
        "collapsed": true
      },
      "execution_count": 45,
      "outputs": [
        {
          "output_type": "stream",
          "name": "stdout",
          "text": [
            "슝=3\n"
          ]
        }
      ]
    },
    {
      "cell_type": "markdown",
      "source": [
        "## F. 훈련하기"
      ],
      "metadata": {
        "id": "TM4whV38vRV7"
      }
    },
    {
      "cell_type": "markdown",
      "source": [
        "### 1. Model Modification"
      ],
      "metadata": {
        "id": "R5Ok15c7yCjP"
      }
    },
    {
      "cell_type": "code",
      "source": [
        "import tensorflow as tf\n",
        "import tensorflow_datasets as tfds\n",
        "import numpy as np\n",
        "import pandas as pd\n",
        "import re\n",
        "from sklearn.model_selection import train_test_split\n",
        "\n",
        "# 데이터 로드\n",
        "data = pd.read_csv('ChatbotData.csv')\n",
        "\n",
        "# 데이터 확인\n",
        "print(data.head())\n",
        "\n",
        "# 결측값 제거\n",
        "data = data.dropna()\n",
        "\n",
        "# 한글 외의 문자 제거\n",
        "def clean_text(text):\n",
        "    text = re.sub(r'[^ㄱ-ㅎㅏ-ㅣ가-힣 ]', '', text)\n",
        "    return text\n",
        "\n",
        "data['Q'] = data['Q'].apply(clean_text)\n",
        "data['A'] = data['A'].apply(clean_text)\n",
        "\n",
        "# 공백 제거\n",
        "data['Q'] = data['Q'].str.strip()\n",
        "data['A'] = data['A'].str.strip()\n",
        "\n",
        "# 데이터셋 분할 (훈련 데이터와 테스트 데이터)\n",
        "train_data, test_data = train_test_split(data, test_size=0.2, random_state=42)\n",
        "\n",
        "# 전처리된 데이터 확인\n",
        "print(train_data.head())\n",
        "print(test_data.head())\n",
        "\n",
        "# TensorFlow Datasets SubwordTextEncoder를 사용하여 토크나이저 정의\n",
        "tokenizer = tfds.deprecated.text.SubwordTextEncoder.build_from_corpus(\n",
        "    train_data['Q'].tolist() + train_data['A'].tolist(), target_vocab_size=2**13)\n",
        "\n",
        "# 시작과 끝을 나타내는 토큰 정의\n",
        "START_TOKEN, END_TOKEN = [tokenizer.vocab_size], [tokenizer.vocab_size + 1]\n",
        "\n",
        "# 최대 길이 정의\n",
        "MAX_LENGTH = 40\n",
        "\n",
        "# 문장을 토큰화하고 시작과 끝 토큰 추가\n",
        "def tokenize_and_filter(inputs, outputs):\n",
        "    tokenized_inputs, tokenized_outputs = [], []\n",
        "\n",
        "    for (sentence1, sentence2) in zip(inputs, outputs):\n",
        "        sentence1 = START_TOKEN + tokenizer.encode(sentence1) + END_TOKEN\n",
        "        sentence2 = START_TOKEN + tokenizer.encode(sentence2) + END_TOKEN\n",
        "\n",
        "        if len(sentence1) <= MAX_LENGTH and len(sentence2) <= MAX_LENGTH:\n",
        "            tokenized_inputs.append(sentence1)\n",
        "            tokenized_outputs.append(sentence2)\n",
        "\n",
        "    tokenized_inputs = tf.keras.preprocessing.sequence.pad_sequences(\n",
        "        tokenized_inputs, maxlen=MAX_LENGTH, padding='post')\n",
        "    tokenized_outputs = tf.keras.preprocessing.sequence.pad_sequences(\n",
        "        tokenized_outputs, maxlen=MAX_LENGTH, padding='post')\n",
        "\n",
        "    return tokenized_inputs, tokenized_outputs\n",
        "\n",
        "# 훈련 데이터 토큰화 및 필터링\n",
        "train_inputs, train_outputs = tokenize_and_filter(train_data['Q'], train_data['A'])\n",
        "\n",
        "# 테스트 데이터 토큰화 및 필터링\n",
        "test_inputs, test_outputs = tokenize_and_filter(test_data['Q'], test_data['A'])\n",
        "\n",
        "# 전처리된 데이터 확인\n",
        "print(train_inputs[:5])\n",
        "print(train_outputs[:5])\n",
        "print(test_inputs[:5])\n",
        "print(test_outputs[:5])\n",
        "\n",
        "# 패딩 마스크 생성 함수\n",
        "def create_padding_mask(seq):\n",
        "    seq = tf.cast(tf.math.equal(seq, 0), tf.float32)\n",
        "    return seq[:, tf.newaxis, tf.newaxis, :]\n",
        "\n",
        "# look-ahead 마스크 생성 함수 수정\n",
        "def create_look_ahead_mask(seq):\n",
        "    seq_len = tf.shape(seq)[1]\n",
        "    look_ahead_mask = 1 - tf.linalg.band_part(tf.ones((seq_len, seq_len)), -1, 0)\n",
        "    padding_mask = create_padding_mask(seq)\n",
        "    return tf.maximum(look_ahead_mask, padding_mask)\n",
        "\n",
        "# 인코더 레이어 정의\n",
        "def encoder_layer(units, d_model, num_heads, dropout, name=\"encoder_layer\"):\n",
        "    inputs = tf.keras.Input(shape=(None, d_model), name=\"inputs\")\n",
        "    padding_mask = tf.keras.Input(shape=(1, 1, None), name=\"padding_mask\")\n",
        "\n",
        "    attention = tf.keras.layers.MultiHeadAttention(\n",
        "        num_heads=num_heads, key_dim=d_model, name=\"attention\")(inputs, inputs, inputs, attention_mask=padding_mask)\n",
        "\n",
        "    attention = tf.keras.layers.Dropout(rate=dropout)(attention)\n",
        "    attention = tf.keras.layers.LayerNormalization(epsilon=1e-6)(inputs + attention)\n",
        "\n",
        "    outputs = tf.keras.layers.Dense(units=units, activation='relu')(attention)\n",
        "    outputs = tf.keras.layers.Dense(units=d_model)(outputs)\n",
        "    outputs = tf.keras.layers.Dropout(rate=dropout)(outputs)\n",
        "    outputs = tf.keras.layers.LayerNormalization(epsilon=1e-6)(attention + outputs)\n",
        "\n",
        "    return tf.keras.Model(inputs=[inputs, padding_mask], outputs=outputs, name=name)\n",
        "\n",
        "# 디코더 레이어 정의\n",
        "def decoder_layer(units, d_model, num_heads, dropout, name=\"decoder_layer\"):\n",
        "    inputs = tf.keras.Input(shape=(None, d_model), name=\"inputs\")\n",
        "    enc_outputs = tf.keras.Input(shape=(None, d_model), name=\"encoder_outputs\")\n",
        "    look_ahead_mask = tf.keras.Input(shape=(1, None, None), name=\"look_ahead_mask\")\n",
        "    padding_mask = tf.keras.Input(shape=(1, 1, None), name=\"padding_mask\")\n",
        "\n",
        "    attention1 = tf.keras.layers.MultiHeadAttention(\n",
        "        num_heads=num_heads, key_dim=d_model, name=\"attention_1\")(inputs, inputs, inputs, attention_mask=look_ahead_mask)\n",
        "\n",
        "    attention1 = tf.keras.layers.LayerNormalization(epsilon=1e-6)(attention1 + inputs)\n",
        "\n",
        "    attention2 = tf.keras.layers.MultiHeadAttention(\n",
        "        num_heads=num_heads, key_dim=d_model, name=\"attention_2\")(attention1, enc_outputs, enc_outputs, attention_mask=padding_mask)\n",
        "\n",
        "    attention2 = tf.keras.layers.Dropout(rate=dropout)(attention2)\n",
        "    attention2 = tf.keras.layers.LayerNormalization(epsilon=1e-6)(attention2 + attention1)\n",
        "\n",
        "    outputs = tf.keras.layers.Dense(units=units, activation='relu')(attention2)\n",
        "    outputs = tf.keras.layers.Dense(units=d_model)(outputs)\n",
        "    outputs = tf.keras.layers.Dropout(rate=dropout)(outputs)\n",
        "    outputs = tf.keras.layers.LayerNormalization(epsilon=1e-6)(outputs + attention2)\n",
        "\n",
        "    return tf.keras.Model(inputs=[inputs, enc_outputs, look_ahead_mask, padding_mask], outputs=outputs, name=name)\n",
        "\n",
        "# 디코더 정의\n",
        "def decoder(vocab_size, num_layers, units, d_model, num_heads, dropout, name='decoder'):\n",
        "    inputs = tf.keras.Input(shape=(None,), name='inputs')\n",
        "    enc_outputs = tf.keras.Input(shape=(None, d_model), name='encoder_outputs')\n",
        "    look_ahead_mask = tf.keras.Input(shape=(1, None, None), name='look_ahead_mask')\n",
        "    padding_mask = tf.keras.Input(shape=(1, 1, None), name='padding_mask')\n",
        "\n",
        "    embeddings = tf.keras.layers.Embedding(vocab_size, d_model)(inputs)\n",
        "    embeddings *= tf.math.sqrt(tf.cast(d_model, tf.float32))\n",
        "    embeddings = tf.keras.layers.Dropout(rate=dropout)(embeddings)\n",
        "\n",
        "    outputs = embeddings\n",
        "\n",
        "    for i in range(num_layers):\n",
        "        outputs = decoder_layer(units=units, d_model=d_model, num_heads=num_heads, dropout=dropout, name=f\"decoder_layer_{i}\")([outputs, enc_outputs, look_ahead_mask, padding_mask])\n",
        "\n",
        "    return tf.keras.Model(inputs=[inputs, enc_outputs, look_ahead_mask, padding_mask], outputs=outputs, name=name)\n",
        "\n",
        "# 트랜스포머 모델 정의 함수에서 수정된 부분\n",
        "def transformer(vocab_size,\n",
        "                num_layers,\n",
        "                units,\n",
        "                d_model,\n",
        "                num_heads,\n",
        "                dropout,\n",
        "                name=\"transformer\"):\n",
        "    inputs = tf.keras.Input(shape=(None,), name=\"inputs\")\n",
        "    dec_inputs = tf.keras.Input(shape=(None,), name=\"dec_inputs\")\n",
        "\n",
        "    # 인코더에서 패딩을 위한 마스크\n",
        "    enc_padding_mask = tf.keras.layers.Lambda(\n",
        "        create_padding_mask, output_shape=(1, 1, None),\n",
        "        name='enc_padding_mask')(inputs)\n",
        "\n",
        "    # 디코더에서 미래의 토큰을 마스크 하기 위해 사용합니다.\n",
        "    # 내부적으로 패딩 마스크도 포함되어 있습니다.\n",
        "    look_ahead_mask = tf.keras.layers.Lambda(\n",
        "        create_look_ahead_mask, output_shape=(1, None, None),\n",
        "        name='look_ahead_mask')(dec_inputs)\n",
        "\n",
        "    # 두 번째 어텐션 블록에서 인코더의 벡터들을 마스킹\n",
        "    dec_padding_mask = tf.keras.layers.Lambda(\n",
        "        create_padding_mask, output_shape=(1, 1, None),\n",
        "        name='dec_padding_mask')(inputs)\n",
        "\n",
        "    enc_outputs = encoder(vocab_size=vocab_size, num_layers=num_layers, units=units,\n",
        "                          d_model=d_model, num_heads=num_heads, dropout=dropout)(inputs=[inputs, enc_padding_mask])\n",
        "\n",
        "    dec_outputs = decoder(vocab_size=vocab_size, num_layers=num_layers, units=units,\n",
        "                          d_model=d_model, num_heads=num_heads, dropout=dropout)(\n",
        "        inputs=[dec_inputs, enc_outputs, look_ahead_mask, dec_padding_mask])\n",
        "\n",
        "    outputs = tf.keras.layers.Dense(units=vocab_size, name=\"outputs\")(dec_outputs)\n",
        "\n",
        "    return tf.keras.Model(inputs=[inputs, dec_inputs], outputs=outputs, name=name)\n",
        "\n",
        "\n",
        "# 하이퍼파라미터 설정\n",
        "num_layers = 2\n",
        "d_model = 256\n",
        "num_heads = 8\n",
        "units = 512\n",
        "dropout = 0.1\n",
        "\n",
        "# vocab_size는 시작과 끝 토큰을 고려하여 +2\n",
        "vocab_size = tokenizer.vocab_size + 2\n",
        "\n",
        "# 트랜스포머 모델 생성 및 훈련\n",
        "model = transformer(vocab_size=vocab_size,\n",
        "                    num_layers=num_layers,\n",
        "                    units=units,\n",
        "                    d_model=d_model,\n",
        "                    num_heads=num_heads,\n",
        "                    dropout=dropout)\n",
        "\n",
        "# 모델 컴파일 (이미 설정됨)\n",
        "model.compile(optimizer=optimizer, loss=loss_function, metrics=[accuracy])\n",
        "\n",
        "# 모델 훈련\n",
        "EPOCHS = 10\n",
        "\n",
        "model.fit(train_dataset, epochs=EPOCHS, validation_data=test_dataset)\n",
        "\n",
        "# 모델 저장\n",
        "model.save('chatbot_transformer_model.h5')"
      ],
      "metadata": {
        "colab": {
          "base_uri": "https://localhost:8080/",
          "height": 1000
        },
        "id": "nQXtzEgvyKag",
        "outputId": "cd09fd3e-b306-4593-9234-88500887fcc2",
        "collapsed": true
      },
      "execution_count": null,
      "outputs": [
        {
          "output_type": "stream",
          "name": "stdout",
          "text": [
            "                 Q            A  label\n",
            "0           12시 땡!   하루가 또 가네요.      0\n",
            "1      1지망 학교 떨어졌어    위로해 드립니다.      0\n",
            "2     3박4일 놀러가고 싶다  여행은 언제나 좋죠.      0\n",
            "3  3박4일 정도 놀러가고 싶다  여행은 언제나 좋죠.      0\n",
            "4          PPL 심하네   눈살이 찌푸려지죠.      0\n",
            "                      Q                 A  label\n",
            "10512           엄청 로맨틱해       생각만해도 달콤하네요      2\n",
            "1199         대리님이 너무 갈궈      더 웃으면서 대해보세요      0\n",
            "9841   사내커플인데 비밀연애임 답답해  비밀연애가 말도 못하고 힘들죠      2\n",
            "5595        그 사람이 참 그리워            사랑했나봐요      1\n",
            "7228                  왜             궁금하네요      1\n",
            "               Q             A  label\n",
            "8169      죽을거 같네  나쁜 생각 하지 마세요      1\n",
            "900      내일 시험이야    컨디션 조절 하세요      0\n",
            "8075  정말내 자신이 싫다    자신은 사랑해주세요      1\n",
            "7625     이별후 네달째  바쁘게 살면서 잊어가요      1\n",
            "2816     쌍커풀 해볼까       눈은 기본이죠      0\n",
            "[[8718  409 7724 8719    0    0    0    0    0    0    0    0    0    0\n",
            "     0    0    0    0    0    0    0    0    0    0    0    0    0    0\n",
            "     0    0    0    0    0    0    0    0    0    0    0    0]\n",
            " [8718 2675 2686   13    3  581 4197 8719    0    0    0    0    0    0\n",
            "     0    0    0    0    0    0    0    0    0    0    0    0    0    0\n",
            "     0    0    0    0    0    0    0    0    0    0    0    0]\n",
            " [8718 3086 2409  234 7322  630 8494 1531 8719    0    0    0    0    0\n",
            "     0    0    0    0    0    0    0    0    0    0    0    0    0    0\n",
            "     0    0    0    0    0    0    0    0    0    0    0    0]\n",
            " [8718   53   36  165 1757 8719    0    0    0    0    0    0    0    0\n",
            "     0    0    0    0    0    0    0    0    0    0    0    0    0    0\n",
            "     0    0    0    0    0    0    0    0    0    0    0    0]\n",
            " [8718 2947 8719    0    0    0    0    0    0    0    0    0    0    0\n",
            "     0    0    0    0    0    0    0    0    0    0    0    0    0    0\n",
            "     0    0    0    0    0    0    0    0    0    0    0    0]]\n",
            "[[8718 3063  435 8698 8651 8626 1280 8719    0    0    0    0    0    0\n",
            "     0    0    0    0    0    0    0    0    0    0    0    0    0    0\n",
            "     0    0    0    0    0    0    0    0    0    0    0    0]\n",
            " [8718    6 4777 4084 8719    0    0    0    0    0    0    0    0    0\n",
            "     0    0    0    0    0    0    0    0    0    0    0    0    0    0\n",
            "     0    0    0    0    0    0    0    0    0    0    0    0]\n",
            " [8718 7322   29 1135 1131  859 8719    0    0    0    0    0    0    0\n",
            "     0    0    0    0    0    0    0    0    0    0    0    0    0    0\n",
            "     0    0    0    0    0    0    0    0    0    0    0    0]\n",
            " [8718 2222 8719    0    0    0    0    0    0    0    0    0    0    0\n",
            "     0    0    0    0    0    0    0    0    0    0    0    0    0    0\n",
            "     0    0    0    0    0    0    0    0    0    0    0    0]\n",
            " [8718 1150 8719    0    0    0    0    0    0    0    0    0    0    0\n",
            "     0    0    0    0    0    0    0    0    0    0    0    0    0    0\n",
            "     0    0    0    0    0    0    0    0    0    0    0    0]]\n",
            "[[8718 4571    5 1396 8719    0    0    0    0    0    0    0    0    0\n",
            "     0    0    0    0    0    0    0    0    0    0    0    0    0    0\n",
            "     0    0    0    0    0    0    0    0    0    0    0    0]\n",
            " [8718  314  213 1784  759 8719    0    0    0    0    0    0    0    0\n",
            "     0    0    0    0    0    0    0    0    0    0    0    0    0    0\n",
            "     0    0    0    0    0    0    0    0    0    0    0    0]\n",
            " [8718 2111   51  427 1111 8719    0    0    0    0    0    0    0    0\n",
            "     0    0    0    0    0    0    0    0    0    0    0    0    0    0\n",
            "     0    0    0    0    0    0    0    0    0    0    0    0]\n",
            " [8718 1089   37 2679 8719    0    0    0    0    0    0    0    0    0\n",
            "     0    0    0    0    0    0    0    0    0    0    0    0    0    0\n",
            "     0    0    0    0    0    0    0    0    0    0    0    0]\n",
            " [8718 8698 8602 8603 1415 1588 8494  239 8719    0    0    0    0    0\n",
            "     0    0    0    0    0    0    0    0    0    0    0    0    0    0\n",
            "     0    0    0    0    0    0    0    0    0    0    0    0]]\n",
            "[[8718  418  345  140   31 8719    0    0    0    0    0    0    0    0\n",
            "     0    0    0    0    0    0    0    0    0    0    0    0    0    0\n",
            "     0    0    0    0    0    0    0    0    0    0    0    0]\n",
            " [8718 2408 6365   77 8719    0    0    0    0    0    0    0    0    0\n",
            "     0    0    0    0    0    0    0    0    0    0    0    0    0    0\n",
            "     0    0    0    0    0    0    0    0    0    0    0    0]\n",
            " [8718 1309   35  718 8719    0    0    0    0    0    0    0    0    0\n",
            "     0    0    0    0    0    0    0    0    0    0    0    0    0    0\n",
            "     0    0    0    0    0    0    0    0    0    0    0    0]\n",
            " [8718 2250 7240 1188  522 8719    0    0    0    0    0    0    0    0\n",
            "     0    0    0    0    0    0    0    0    0    0    0    0    0    0\n",
            "     0    0    0    0    0    0    0    0    0    0    0    0]\n",
            " [8718 5548 8208 8719    0    0    0    0    0    0    0    0    0    0\n",
            "     0    0    0    0    0    0    0    0    0    0    0    0    0    0\n",
            "     0    0    0    0    0    0    0    0    0    0    0    0]]\n",
            "Epoch 1/10\n",
            "\u001b[1m148/148\u001b[0m \u001b[32m━━━━━━━━━━━━━━━━━━━━\u001b[0m\u001b[37m\u001b[0m \u001b[1m1917s\u001b[0m 13s/step - accuracy: 0.0116 - loss: 1.2847 - val_accuracy: 0.0256 - val_loss: 1.2631\n",
            "Epoch 2/10\n",
            "\u001b[1m148/148\u001b[0m \u001b[32m━━━━━━━━━━━━━━━━━━━━\u001b[0m\u001b[37m\u001b[0m \u001b[1m1910s\u001b[0m 13s/step - accuracy: 0.0256 - loss: 1.1343 - val_accuracy: 0.0256 - val_loss: 1.1293\n",
            "Epoch 3/10\n",
            "\u001b[1m148/148\u001b[0m \u001b[32m━━━━━━━━━━━━━━━━━━━━\u001b[0m\u001b[37m\u001b[0m \u001b[1m1898s\u001b[0m 13s/step - accuracy: 0.0256 - loss: 1.0183 - val_accuracy: 0.0256 - val_loss: 1.0815\n",
            "Epoch 4/10\n",
            "\u001b[1m148/148\u001b[0m \u001b[32m━━━━━━━━━━━━━━━━━━━━\u001b[0m\u001b[37m\u001b[0m \u001b[1m1813s\u001b[0m 12s/step - accuracy: 0.0258 - loss: 0.9808 - val_accuracy: 0.0261 - val_loss: 1.0676\n",
            "Epoch 5/10\n",
            "\u001b[1m148/148\u001b[0m \u001b[32m━━━━━━━━━━━━━━━━━━━━\u001b[0m\u001b[37m\u001b[0m \u001b[1m1849s\u001b[0m 13s/step - accuracy: 0.0261 - loss: 0.9508 - val_accuracy: 0.0261 - val_loss: 1.0621\n",
            "Epoch 6/10\n",
            "\u001b[1m148/148\u001b[0m \u001b[32m━━━━━━━━━━━━━━━━━━━━\u001b[0m\u001b[37m\u001b[0m \u001b[1m1847s\u001b[0m 12s/step - accuracy: 0.0261 - loss: 0.9311 - val_accuracy: 0.0261 - val_loss: 1.0611\n",
            "Epoch 7/10\n",
            "\u001b[1m148/148\u001b[0m \u001b[32m━━━━━━━━━━━━━━━━━━━━\u001b[0m\u001b[37m\u001b[0m \u001b[1m1823s\u001b[0m 12s/step - accuracy: 0.0263 - loss: 0.9039 - val_accuracy: 0.0260 - val_loss: 1.0599\n",
            "Epoch 8/10\n",
            "\u001b[1m148/148\u001b[0m \u001b[32m━━━━━━━━━━━━━━━━━━━━\u001b[0m\u001b[37m\u001b[0m \u001b[1m1824s\u001b[0m 12s/step - accuracy: 0.0270 - loss: 0.8736 - val_accuracy: 0.0258 - val_loss: 1.0600\n",
            "Epoch 9/10\n",
            "\u001b[1m148/148\u001b[0m \u001b[32m━━━━━━━━━━━━━━━━━━━━\u001b[0m\u001b[37m\u001b[0m \u001b[1m1824s\u001b[0m 12s/step - accuracy: 0.0286 - loss: 0.8265 - val_accuracy: 0.0251 - val_loss: 1.0620\n",
            "Epoch 10/10\n",
            "\u001b[1m148/148\u001b[0m \u001b[32m━━━━━━━━━━━━━━━━━━━━\u001b[0m\u001b[37m\u001b[0m \u001b[1m1815s\u001b[0m 12s/step - accuracy: 0.0322 - loss: 0.7769 - val_accuracy: 0.0253 - val_loss: 1.0649\n"
          ]
        },
        {
          "output_type": "stream",
          "name": "stderr",
          "text": [
            "WARNING:absl:You are saving your model as an HDF5 file via `model.save()` or `keras.saving.save_model(model)`. This file format is considered legacy. We recommend using instead the native Keras format, e.g. `model.save('my_model.keras')` or `keras.saving.save_model(model, 'my_model.keras')`. \n"
          ]
        },
        {
          "output_type": "error",
          "ename": "NotImplementedError",
          "evalue": "Learning rate schedule 'CustomSchedule' must override `get_config()` in order to be serializable.",
          "traceback": [
            "\u001b[0;31m---------------------------------------------------------------------------\u001b[0m",
            "\u001b[0;31mNotImplementedError\u001b[0m                       Traceback (most recent call last)",
            "\u001b[0;32m<ipython-input-70-9e5321b0a611>\u001b[0m in \u001b[0;36m<cell line: 216>\u001b[0;34m()\u001b[0m\n\u001b[1;32m    214\u001b[0m \u001b[0;34m\u001b[0m\u001b[0m\n\u001b[1;32m    215\u001b[0m \u001b[0;31m# 모델 저장\u001b[0m\u001b[0;34m\u001b[0m\u001b[0;34m\u001b[0m\u001b[0m\n\u001b[0;32m--> 216\u001b[0;31m \u001b[0mmodel\u001b[0m\u001b[0;34m.\u001b[0m\u001b[0msave\u001b[0m\u001b[0;34m(\u001b[0m\u001b[0;34m'chatbot_transformer_model.h5'\u001b[0m\u001b[0;34m)\u001b[0m\u001b[0;34m\u001b[0m\u001b[0;34m\u001b[0m\u001b[0m\n\u001b[0m",
            "\u001b[0;32m/usr/local/lib/python3.10/dist-packages/keras/src/utils/traceback_utils.py\u001b[0m in \u001b[0;36merror_handler\u001b[0;34m(*args, **kwargs)\u001b[0m\n\u001b[1;32m    120\u001b[0m             \u001b[0;31m# To get the full stack trace, call:\u001b[0m\u001b[0;34m\u001b[0m\u001b[0;34m\u001b[0m\u001b[0m\n\u001b[1;32m    121\u001b[0m             \u001b[0;31m# `keras.config.disable_traceback_filtering()`\u001b[0m\u001b[0;34m\u001b[0m\u001b[0;34m\u001b[0m\u001b[0m\n\u001b[0;32m--> 122\u001b[0;31m             \u001b[0;32mraise\u001b[0m \u001b[0me\u001b[0m\u001b[0;34m.\u001b[0m\u001b[0mwith_traceback\u001b[0m\u001b[0;34m(\u001b[0m\u001b[0mfiltered_tb\u001b[0m\u001b[0;34m)\u001b[0m \u001b[0;32mfrom\u001b[0m \u001b[0;32mNone\u001b[0m\u001b[0;34m\u001b[0m\u001b[0;34m\u001b[0m\u001b[0m\n\u001b[0m\u001b[1;32m    123\u001b[0m         \u001b[0;32mfinally\u001b[0m\u001b[0;34m:\u001b[0m\u001b[0;34m\u001b[0m\u001b[0;34m\u001b[0m\u001b[0m\n\u001b[1;32m    124\u001b[0m             \u001b[0;32mdel\u001b[0m \u001b[0mfiltered_tb\u001b[0m\u001b[0;34m\u001b[0m\u001b[0;34m\u001b[0m\u001b[0m\n",
            "\u001b[0;32m/usr/local/lib/python3.10/dist-packages/keras/src/optimizers/schedules/learning_rate_schedule.py\u001b[0m in \u001b[0;36mget_config\u001b[0;34m(self)\u001b[0m\n\u001b[1;32m     59\u001b[0m \u001b[0;34m\u001b[0m\u001b[0m\n\u001b[1;32m     60\u001b[0m     \u001b[0;32mdef\u001b[0m \u001b[0mget_config\u001b[0m\u001b[0;34m(\u001b[0m\u001b[0mself\u001b[0m\u001b[0;34m)\u001b[0m\u001b[0;34m:\u001b[0m\u001b[0;34m\u001b[0m\u001b[0;34m\u001b[0m\u001b[0m\n\u001b[0;32m---> 61\u001b[0;31m         raise NotImplementedError(\n\u001b[0m\u001b[1;32m     62\u001b[0m             \u001b[0;34mf\"Learning rate schedule '{self.__class__.__name__}' \"\u001b[0m\u001b[0;34m\u001b[0m\u001b[0;34m\u001b[0m\u001b[0m\n\u001b[1;32m     63\u001b[0m             \u001b[0;34m\"must override `get_config()` in order to be serializable.\"\u001b[0m\u001b[0;34m\u001b[0m\u001b[0;34m\u001b[0m\u001b[0m\n",
            "\u001b[0;31mNotImplementedError\u001b[0m: Learning rate schedule 'CustomSchedule' must override `get_config()` in order to be serializable."
          ]
        }
      ]
    },
    {
      "cell_type": "markdown",
      "source": [
        "## 2.  CustomSchedule 클래스에 get_config() 메서드 추가 및 모델 훈련의 출력값 그래프로 표현하기"
      ],
      "metadata": {
        "id": "udKsmTk5A0LV"
      }
    },
    {
      "cell_type": "code",
      "source": [
        "import tensorflow as tf\n",
        "import matplotlib.pyplot as plt\n",
        "import os  # Import the 'os' module\n",
        "\n",
        "class CustomSchedule(tf.keras.optimizers.schedules.LearningRateSchedule):\n",
        "    def __init__(self, d_model, warmup_steps=4000):\n",
        "        super(CustomSchedule, self).__init__()\n",
        "        self.d_model = d_model\n",
        "        self.d_model = tf.cast(self.d_model, tf.float32)\n",
        "        self.warmup_steps = warmup_steps\n",
        "\n",
        "    def __call__(self, step):\n",
        "        arg1 = tf.math.rsqrt(step)\n",
        "        arg2 = step * (self.warmup_steps ** -1.5)\n",
        "        return tf.math.rsqrt(self.d_model) * tf.math.minimum(arg1, arg2)\n",
        "\n",
        "    def get_config(self): # Add this method to make the schedule serializable\n",
        "        return {\n",
        "            'd_model': self.d_model,\n",
        "            'warmup_steps': self.warmup_steps,\n",
        "        }\n",
        "\n",
        "# Assuming 'model' is defined and compiled with the CustomSchedule somewhere above\n",
        "# Assuming necessary imports and CustomSchedule definition are present\n",
        "\n",
        "learning_rate = CustomSchedule(d_model=d_model) # Assuming d_model is defined\n",
        "optimizer = tf.keras.optimizers.Adam(learning_rate=learning_rate)\n",
        "model.compile(optimizer=optimizer)\n",
        "if os.path.exists('chatbot_transformer_model.h5'):  # Now 'os' is defined\n",
        "    os.remove('chatbot_transformer_model.h5')\n",
        "    print(\"Existing model file removed.\")\n",
        "\n",
        "\n",
        "# Now save the model\n",
        "# 새로운 Keras 포맷으로 모델 저장\n",
        "model.save('chatbot_transformer_model.keras')\n",
        "print(\"Model saved in new Keras format.\")\n",
        "\n",
        "\n",
        "\n",
        "# 학습 결과 출력값\n",
        "history = {\n",
        "    'accuracy': [0.0116, 0.0256, 0.0256, 0.0258, 0.0261, 0.0261, 0.0263, 0.0270, 0.0286],\n",
        "    'loss': [1.2847, 1.1343, 1.0183, 0.9808, 0.9508, 0.9311, 0.9039, 0.8736, 0.8265],\n",
        "    'val_accuracy': [0.0256, 0.0256, 0.0256, 0.0261, 0.0261, 0.0261, 0.0260, 0.0258, 0.0251],\n",
        "    'val_loss': [1.2631, 1.1293, 1.0815, 1.0676, 1.0621, 1.0611, 1.0599, 1.0600, 1.0620]\n",
        "}\n",
        "\n",
        "# 그래프 그리기\n",
        "epochs = range(1, 10)\n",
        "plt.figure(figsize=(12, 4))\n",
        "\n",
        "plt.subplot(1, 2, 1)\n",
        "plt.plot(epochs, history['accuracy'], 'bo-', label='Training accuracy')\n",
        "plt.plot(epochs, history['val_accuracy'], 'ro-', label='Validation accuracy')\n",
        "plt.title('Training and validation accuracy')\n",
        "plt.xlabel('Epochs')\n",
        "plt.ylabel('Accuracy')\n",
        "plt.legend()\n",
        "\n",
        "plt.subplot(1, 2, 2)\n",
        "plt.plot(epochs, history['loss'], 'bo-', label='Training loss')\n",
        "plt.plot(epochs, history['val_loss'], 'ro-', label='Validation loss')\n",
        "plt.title('Training and validation loss')\n",
        "plt.xlabel('Epochs')\n",
        "plt.ylabel('Loss')\n",
        "plt.legend()\n",
        "\n",
        "plt.show()\n"
      ],
      "metadata": {
        "colab": {
          "base_uri": "https://localhost:8080/",
          "height": 445
        },
        "id": "AcZRjs-EAqj-",
        "outputId": "12a535b9-1930-43fe-91b1-4a396b368d2a",
        "collapsed": true
      },
      "execution_count": 68,
      "outputs": [
        {
          "output_type": "stream",
          "name": "stdout",
          "text": [
            "Existing model file removed.\n",
            "Model saved in new Keras format.\n"
          ]
        },
        {
          "output_type": "display_data",
          "data": {
            "text/plain": [
              "<Figure size 1200x400 with 2 Axes>"
            ],
            "image/png": "[encoded data removed]"
          },
          "metadata": {}
        }
      ]
    },
    {
      "cell_type": "markdown",
      "source": [
        "## 3. An Initial Training Analysis & Conclusion\n",
        "\n",
        "### Accuracy (정확도):\n",
        "초기 정확도는 0.0116에서 시작하여 10번째 에포크에서 0.0286까지 증가했는데 이는 모델이 학습을 통해 점차 개선되고 있음을 의미한다.\n",
        "\n",
        "### Loss (손실):\n",
        "초기 손실 값은 1.2847에서 시작하여 10번째 에포크에서 0.8265까지 감소했는데 손실 값이 감소하는 것은 모델이 점차 더 나은 예측을 하고 있음을 의미한다.\n",
        "\n",
        "### Validation Accuracy (검증 정확도):\n",
        "검증 정확도는 0.0256에서 시작하여 10번째 에포크에서 0.0251로 약간 감소했는데 이는 모델이 학습 데이터에 과적합(overfitting)되고 있을 가능성을 시사한다.\n",
        "\n",
        "### Validation Loss (검증 손실):\n",
        "검증 손실 값은 1.2631에서 시작하여 10번째 에포크에서 1.0620으로 감소했다. 검증 손실 값이 감소하는 것은 긍정적인 신호이지만, 검증 정확도가 크게 개선되지 않은 점을 고려할 때 모델의 일반화 성능이 충분하지 않을 수 있다고 생각된다.\n",
        "\n",
        "### Conclusion (결론):\n",
        "모델의 학습은 진행되고 있지만, 검증 정확도가 크게 개선되지 않는 점을 고려할 때 모델이 과적합되고 있을 가능성이 있다.\n",
        "\n",
        "더 많은 학습 데이터를 사용하여 모델의 일반화 성능을 향상시키거나 정규화 기법을 사용하여 과적합을 방지할 수 있습니다. 또는, HP 튜닝을 통해 모델을 성능을 최적화할 수 있도록 실행해 보자.\n",
        "\n"
      ],
      "metadata": {
        "id": "VaCty3S6H1LQ"
      }
    },
    {
      "cell_type": "markdown",
      "source": [
        "## G. 챗봇 테스트하기 (추론하기 기능 Maximization)\n",
        "\n",
        "### a. decoder_inference() 함수 만들기"
      ],
      "metadata": {
        "id": "kHYy90AT4eE_"
      }
    },
    {
      "cell_type": "code",
      "source": [
        "def decoder_inference(sentence):\n",
        "  sentence = preprocess_sentence(sentence)\n",
        "\n",
        "  # 입력된 문장을 정수 인코딩 후, 시작 토큰과 종료 토큰을 앞뒤로 추가.\n",
        "  # ex) Where have you been? → [[8331   86   30    5 1059    7 8332]]\n",
        "  sentence = tf.expand_dims(\n",
        "      START_TOKEN + tokenizer.encode(sentence) + END_TOKEN, axis=0)\n",
        "\n",
        "  # 디코더의 현재까지의 예측한 출력 시퀀스가 지속적으로 저장되는 변수.\n",
        "  # 처음에는 예측한 내용이 없음으로 시작 토큰만 별도 저장. ex) 8331\n",
        "  output_sequence = tf.expand_dims(START_TOKEN, 0)\n",
        "\n",
        "  # 디코더의 인퍼런스 단계\n",
        "  for i in range(MAX_LENGTH):\n",
        "    # 디코더는 최대 MAX_LENGTH의 길이만큼 다음 단어 예측을 반복합니다.\n",
        "    predictions = model(inputs=[sentence, output_sequence], training=False)\n",
        "    predictions = predictions[:, -1:, :]\n",
        "\n",
        "    # 현재 예측한 단어의 정수\n",
        "    predicted_id = tf.cast(tf.argmax(predictions, axis=-1), tf.int32)\n",
        "\n",
        "    # 만약 현재 예측한 단어가 종료 토큰이라면 for문을 종료\n",
        "    if tf.equal(predicted_id, END_TOKEN[0]):\n",
        "      break\n",
        "\n",
        "    # 예측한 단어들은 지속적으로 output_sequence에 추가됩니다.\n",
        "    # 이 output_sequence는 다시 디코더의 입력이 됩니다.\n",
        "    output_sequence = tf.concat([output_sequence, predicted_id], axis=-1)\n",
        "\n",
        "  return tf.squeeze(output_sequence, axis=0)\n",
        "print(\"슝=3\")"
      ],
      "metadata": {
        "colab": {
          "base_uri": "https://localhost:8080/"
        },
        "id": "5No2PG165Etv",
        "outputId": "bfa7f504-fb56-4cc5-a538-ae47e06804c1"
      },
      "execution_count": 69,
      "outputs": [
        {
          "output_type": "stream",
          "name": "stdout",
          "text": [
            "슝=3\n"
          ]
        }
      ]
    },
    {
      "cell_type": "code",
      "source": [
        "def sentence_generation(sentence):\n",
        "  # 입력 문장에 대해서 디코더를 동작 시켜 예측된 정수 시퀀스를 리턴받습니다.\n",
        "  prediction = decoder_inference(sentence)\n",
        "\n",
        "  # 정수 시퀀스를 다시 텍스트 시퀀스로 변환합니다.\n",
        "  predicted_sentence = tokenizer.decode(\n",
        "      [i for i in prediction if i < tokenizer.vocab_size])\n",
        "\n",
        "  print('입력 : {}'.format(sentence))\n",
        "  print('출력 : {}'.format(predicted_sentence))\n",
        "\n",
        "  return predicted_sentence\n",
        "print(\"슝=3\")"
      ],
      "metadata": {
        "colab": {
          "base_uri": "https://localhost:8080/"
        },
        "id": "8JlXoaFxDji1",
        "outputId": "e6a4d568-87ca-4034-f4f7-0c65d068d653"
      },
      "execution_count": 70,
      "outputs": [
        {
          "output_type": "stream",
          "name": "stdout",
          "text": [
            "슝=3\n"
          ]
        }
      ]
    },
    {
      "cell_type": "markdown",
      "source": [
        "# Step 5. 모델 평가하기\n",
        "\n",
        "##임의의 한국어 입력문장에 대해 한국어로 답변하는 함수를 구현하기\n",
        "\n"
      ],
      "metadata": {
        "id": "LAbqoKXM4kdb"
      }
    },
    {
      "cell_type": "code",
      "source": [
        "!pip install konlpy"
      ],
      "metadata": {
        "colab": {
          "base_uri": "https://localhost:8080/"
        },
        "collapsed": true,
        "id": "Cs8cKkG0jRIZ",
        "outputId": "f77d7026-c064-4f98-c73e-1922a9c55e96"
      },
      "execution_count": 28,
      "outputs": [
        {
          "output_type": "stream",
          "name": "stdout",
          "text": [
            "Requirement already satisfied: konlpy in /usr/local/lib/python3.10/dist-packages (0.6.0)\n",
            "Requirement already satisfied: JPype1>=0.7.0 in /usr/local/lib/python3.10/dist-packages (from konlpy) (1.5.0)\n",
            "Requirement already satisfied: lxml>=4.1.0 in /usr/local/lib/python3.10/dist-packages (from konlpy) (4.9.4)\n",
            "Requirement already satisfied: numpy>=1.6 in /usr/local/lib/python3.10/dist-packages (from konlpy) (1.26.4)\n",
            "Requirement already satisfied: packaging in /usr/local/lib/python3.10/dist-packages (from JPype1>=0.7.0->konlpy) (24.1)\n"
          ]
        }
      ]
    },
    {
      "cell_type": "code",
      "source": [
        "import tensorflow as tf\n",
        "import tensorflow_datasets as tfds\n",
        "import numpy as np\n",
        "import pandas as pd\n",
        "import re\n",
        "from sklearn.model_selection import train_test_split\n",
        "from konlpy.tag import Okt\n",
        "\n",
        "# 데이터 로드 및 전처리\n",
        "data = pd.read_csv('ChatbotData.csv')\n",
        "data = data.dropna()\n",
        "\n",
        "def clean_text(text):\n",
        "    text = re.sub(r'[^ㄱ-ㅎㅏ-ㅣ가-힣 ]', '', text)\n",
        "    return text\n",
        "\n",
        "data['Q'] = data['Q'].apply(clean_text)\n",
        "data['A'] = data['A'].apply(clean_text)\n",
        "data['Q'] = data['Q'].str.strip()\n",
        "data['A'] = data['A'].str.strip()\n",
        "\n",
        "okt = Okt()\n",
        "stopwords = ['은', '는', '이', '가', '을', '를', '에', '의', '와', '한', '하다']\n",
        "\n",
        "def preprocess_text(text):\n",
        "    tokens = okt.morphs(text)\n",
        "    tokens = [word for word in tokens if word not in stopwords]\n",
        "    return ' '.join(tokens)\n",
        "\n",
        "data['Q'] = data['Q'].apply(preprocess_text)\n",
        "data['A'] = data['A'].apply(preprocess_text)\n",
        "\n",
        "train_data, test_data = train_test_split(data, test_size=0.2, random_state=42)\n",
        "\n",
        "tokenizer = tfds.deprecated.text.SubwordTextEncoder.build_from_corpus(\n",
        "    train_data['Q'].tolist() + train_data['A'].tolist(), target_vocab_size=2**13)\n",
        "\n",
        "START_TOKEN, END_TOKEN = [tokenizer.vocab_size], [tokenizer.vocab_size + 1]\n",
        "MAX_LENGTH = 40\n",
        "\n",
        "def tokenize_and_filter(inputs, outputs):\n",
        "    tokenized_inputs, tokenized_outputs = [], []\n",
        "\n",
        "    for (sentence1, sentence2) in zip(inputs, outputs):\n",
        "        sentence1 = START_TOKEN + tokenizer.encode(sentence1) + END_TOKEN\n",
        "        sentence2 = START_TOKEN + tokenizer.encode(sentence2) + END_TOKEN\n",
        "\n",
        "        if len(sentence1) <= MAX_LENGTH and len(sentence2) <= MAX_LENGTH:\n",
        "            tokenized_inputs.append(sentence1)\n",
        "            tokenized_outputs.append(sentence2)\n",
        "\n",
        "    tokenized_inputs = tf.keras.preprocessing.sequence.pad_sequences(\n",
        "        tokenized_inputs, maxlen=MAX_LENGTH, padding='post')\n",
        "    tokenized_outputs = tf.keras.preprocessing.sequence.pad_sequences(\n",
        "        tokenized_outputs, maxlen=MAX_LENGTH, padding='post')\n",
        "\n",
        "    return tokenized_inputs, tokenized_outputs\n",
        "\n",
        "train_inputs, train_outputs = tokenize_and_filter(train_data['Q'], train_data['A'])\n",
        "test_inputs, test_outputs = tokenize_and_filter(test_data['Q'], test_data['A'])\n",
        "\n",
        "BATCH_SIZE = 64\n",
        "BUFFER_SIZE = 20000\n",
        "\n",
        "dataset = tf.data.Dataset.from_tensor_slices((\n",
        "    {\n",
        "        'inputs': train_inputs,\n",
        "        'dec_inputs': train_outputs[:, :-1]\n",
        "    },\n",
        "    {\n",
        "        'outputs': train_outputs[:, 1:]\n",
        "    },\n",
        "))\n",
        "\n",
        "dataset = dataset.cache()\n",
        "dataset = dataset.shuffle(BUFFER_SIZE)\n",
        "dataset = dataset.batch(BATCH_SIZE)\n",
        "dataset = dataset.prefetch(tf.data.experimental.AUTOTUNE)\n",
        "\n",
        "print(\"전처리 및 데이터셋 생성 완료!\")\n",
        "\n",
        "def create_padding_mask(seq):\n",
        "    seq = tf.cast(tf.math.equal(seq, 0), tf.float32)\n",
        "    return seq[:, tf.newaxis, tf.newaxis, :]  # (batch_size, 1, 1, seq_len)\n",
        "\n",
        "\n",
        "def create_look_ahead_mask(size):\n",
        "    if not isinstance(size, int):\n",
        "        size = tf.shape(size)[0]\n",
        "    mask = 1 - tf.linalg.band_part(tf.ones((size, size)), -1, 0)\n",
        "    return mask  # (seq_len, seq_len)\n",
        "\n",
        "class CustomSchedule(tf.keras.optimizers.schedules.LearningRateSchedule):\n",
        "    def __init__(self, d_model, warmup_steps=4000):\n",
        "        super(CustomSchedule, self).__init__()\n",
        "        self.d_model = d_model\n",
        "        self.d_model = tf.cast(self.d_model, tf.float32)\n",
        "        self.warmup_steps = warmup_steps\n",
        "\n",
        "    def __call__(self, step):\n",
        "        arg1 = tf.math.rsqrt(step)\n",
        "        arg2 = step * (self.warmup_steps ** -1.5)\n",
        "        return tf.math.rsqrt(self.d_model) * tf.math.minimum(arg1, arg2)\n",
        "\n",
        "    def get_config(self):\n",
        "        return {\n",
        "            'd_model': self.d_model.numpy(),  # Ensure Tensor is converted to a value\n",
        "            'warmup_steps': self.warmup_steps\n",
        "        }\n",
        "\n",
        "    @classmethod\n",
        "    def from_config(cls, config):\n",
        "        return cls(**config)\n",
        "\n",
        "# Custom loss function\n",
        "def loss_function(y_true, y_pred):\n",
        "    loss_object = tf.keras.losses.SparseCategoricalCrossentropy(\n",
        "        from_logits=True, reduction='none')\n",
        "    mask = tf.cast(tf.not_equal(y_true, 0), tf.float32)\n",
        "    loss = loss_object(y_true, y_pred)\n",
        "    loss = mask * loss\n",
        "    return tf.reduce_sum(loss) / tf.reduce_sum(mask)\n",
        "\n",
        "# Custom accuracy function\n",
        "def accuracy(y_true, y_pred):\n",
        "    y_pred = tf.argmax(y_pred, axis=-1)\n",
        "    accuracies = tf.equal(y_true, y_pred)\n",
        "    mask = tf.cast(tf.not_equal(y_true, 0), tf.float32)\n",
        "    accuracies = tf.cast(accuracies, tf.float32)\n",
        "    accuracies = mask * accuracies\n",
        "    return tf.reduce_sum(accuracies) / tf.reduce_sum(mask)\n",
        "\n",
        "# Specify the CORRECT path to your saved model\n",
        "model_path = 'chatbot_transformer_model.keras'  # Update with your actual file path\n",
        "\n",
        "# 예시: Transformer 모델 또는 원하는 모델을 정의하는 코드\n",
        "def create_model():\n",
        "    # 여기서 모델을 정의합니다. (예: Transformer 또는 다른 구조)\n",
        "    model = tf.keras.Sequential([\n",
        "        # 레이어 추가 예시\n",
        "        tf.keras.layers.InputLayer(input_shape=(MAX_LENGTH,)),\n",
        "        tf.keras.layers.Embedding(input_dim=tokenizer.vocab_size + 2, output_dim=128),\n",
        "        # 필요한 추가 레이어들\n",
        "        tf.keras.layers.Dense(tokenizer.vocab_size)\n",
        "    ])\n",
        "    return model\n",
        "\n",
        "# 모델 정의\n",
        "model = create_model()\n",
        "\n",
        "# 모델 전체 저장\n",
        "model.save(\"chatbot_transformer_model.keras\")\n",
        "\n",
        "# 모델 불러오기\n",
        "model = tf.keras.models.load_model(\"chatbot_transformer_model.keras\", custom_objects={\n",
        "    'CustomSchedule': CustomSchedule,\n",
        "    'create_padding_mask': create_padding_mask,\n",
        "    'create_look_ahead_mask': create_look_ahead_mask,\n",
        "    'loss_function': loss_function,\n",
        "    'accuracy': accuracy\n",
        "})\n",
        "\n",
        "\n",
        "# Verify if the file exists at the specified path\n",
        "import os\n",
        "if os.path.exists(model_path):\n",
        "    print(\"Model file found!\")\n",
        "else:\n",
        "    print(\"Model file not found. Please check the path.\")\n",
        "\n",
        "def decoder_inference(sentence):\n",
        "    sentence = preprocess_text(sentence)\n",
        "    sentence = tf.expand_dims(START_TOKEN + tokenizer.encode(sentence) + END_TOKEN, axis=0)\n",
        "\n",
        "    # Ensure shape matches expected input\n",
        "    output_sequence = tf.expand_dims(START_TOKEN, 0)\n",
        "\n",
        "    for i in range(MAX_LENGTH):\n",
        "        # Prepare input with correct shape\n",
        "        predictions = model([sentence, output_sequence], training=False)\n",
        "        predictions = predictions[:, -1:, :]  # Extract the last word's prediction\n",
        "\n",
        "        predicted_id = tf.cast(tf.argmax(predictions, axis=-1), tf.int32)\n",
        "\n",
        "        if tf.equal(predicted_id, END_TOKEN[0]):\n",
        "            break\n",
        "\n",
        "        output_sequence = tf.concat([output_sequence, predicted_id], axis=-1)\n",
        "\n",
        "    return tf.squeeze(output_sequence, axis=0)\n",
        "\n",
        "def sentence_generation(sentence):\n",
        "    prediction = decoder_inference(sentence)\n",
        "    predicted_sentence = tokenizer.decode([i for i in prediction if i < tokenizer.vocab_size])\n",
        "\n",
        "    print('입력 : {}'.format(sentence))\n",
        "    print('출력 : {}'.format(predicted_sentence))\n",
        "\n",
        "    return predicted_sentence\n",
        "\n",
        "# Test the chatbot with an example input\n",
        "user_input = \"사내커플인데 비밀연애임 답답해\"\n",
        "response = sentence_generation(user_input)\n",
        "print(f\"User: {user_input}\")\n",
        "print(f\"Chatbot: {response}\")\n",
        "\n",
        "print(\"슝=3\")"
      ],
      "metadata": {
        "colab": {
          "base_uri": "https://localhost:8080/"
        },
        "collapsed": true,
        "id": "lcq_1ywBuV7S",
        "outputId": "aaaaaef8-c403-4833-f6a3-ebe4c7df0e0a"
      },
      "execution_count": 99,
      "outputs": [
        {
          "output_type": "stream",
          "name": "stdout",
          "text": [
            "전처리 및 데이터셋 생성 완료!\n"
          ]
        },
        {
          "output_type": "stream",
          "name": "stderr",
          "text": [
            "/usr/local/lib/python3.10/dist-packages/keras/src/layers/core/input_layer.py:26: UserWarning: Argument `input_shape` is deprecated. Use `shape` instead.\n",
            "  warnings.warn(\n"
          ]
        },
        {
          "output_type": "stream",
          "name": "stdout",
          "text": [
            "Model file found!\n",
            "입력 : 사내커플인데 비밀연애임 답답해\n",
            "출력 : 헤어진다헤어진다헤어진다헤어진다헤어진다헤어진다헤어진다헤어진다헤어진다헤어진다헤어진다헤어진다헤어진다헤어진다헤어진다헤어진다헤어진다헤어진다헤어진다헤어진다헤어진다헤어진다헤어진다헤어진다헤어진다헤어진다헤어진다헤어진다헤어진다헤어진다헤어진다헤어진다헤어진다헤어진다헤어진다헤어진다헤어진다헤어진다헤어진다헤어진다\n",
            "User: 사내커플인데 비밀연애임 답답해\n",
            "Chatbot: 헤어진다헤어진다헤어진다헤어진다헤어진다헤어진다헤어진다헤어진다헤어진다헤어진다헤어진다헤어진다헤어진다헤어진다헤어진다헤어진다헤어진다헤어진다헤어진다헤어진다헤어진다헤어진다헤어진다헤어진다헤어진다헤어진다헤어진다헤어진다헤어진다헤어진다헤어진다헤어진다헤어진다헤어진다헤어진다헤어진다헤어진다헤어진다헤어진다헤어진다\n",
            "슝=3\n"
          ]
        }
      ]
    },
    {
      "cell_type": "code",
      "source": [
        "import tensorflow as tf\n",
        "import tensorflow_datasets as tfds\n",
        "import numpy as np\n",
        "import pandas as pd\n",
        "import re\n",
        "from sklearn.model_selection import train_test_split\n",
        "from konlpy.tag import Okt\n",
        "\n",
        "# 데이터 로드 및 전처리\n",
        "data = pd.read_csv('ChatbotData.csv')\n",
        "data = data.dropna()\n",
        "\n",
        "def clean_text(text):\n",
        "    text = re.sub(r'[^ㄱ-ㅎㅏ-ㅣ가-힣 ]', '', text)\n",
        "    return text\n",
        "\n",
        "data['Q'] = data['Q'].apply(clean_text)\n",
        "data['A'] = data['A'].apply(clean_text)\n",
        "data['Q'] = data['Q'].str.strip()\n",
        "data['A'] = data['A'].str.strip()\n",
        "\n",
        "okt = Okt()\n",
        "stopwords = ['은', '는', '이', '가', '을', '를', '에', '의', '와', '한', '하다']\n",
        "\n",
        "def preprocess_text(text):\n",
        "    tokens = okt.morphs(text)\n",
        "    tokens = [word for word in tokens if word not in stopwords]\n",
        "    return ' '.join(tokens)\n",
        "\n",
        "data['Q'] = data['Q'].apply(preprocess_text)\n",
        "data['A'] = data['A'].apply(preprocess_text)\n",
        "\n",
        "train_data, test_data = train_test_split(data, test_size=0.2, random_state=42)\n",
        "\n",
        "tokenizer = tfds.deprecated.text.SubwordTextEncoder.build_from_corpus(\n",
        "    train_data['Q'].tolist() + train_data['A'].tolist(), target_vocab_size=2**13)\n",
        "\n",
        "START_TOKEN, END_TOKEN = [tokenizer.vocab_size], [tokenizer.vocab_size + 1]\n",
        "MAX_LENGTH = 40\n",
        "\n",
        "def tokenize_and_filter(inputs, outputs):\n",
        "    tokenized_inputs, tokenized_outputs = [], []\n",
        "\n",
        "    for (sentence1, sentence2) in zip(inputs, outputs):\n",
        "        sentence1 = START_TOKEN + tokenizer.encode(sentence1) + END_TOKEN\n",
        "        sentence2 = START_TOKEN + tokenizer.encode(sentence2) + END_TOKEN\n",
        "\n",
        "        if len(sentence1) <= MAX_LENGTH and len(sentence2) <= MAX_LENGTH:\n",
        "            tokenized_inputs.append(sentence1)\n",
        "            tokenized_outputs.append(sentence2)\n",
        "\n",
        "    tokenized_inputs = tf.keras.preprocessing.sequence.pad_sequences(\n",
        "        tokenized_inputs, maxlen=MAX_LENGTH, padding='post')\n",
        "    tokenized_outputs = tf.keras.preprocessing.sequence.pad_sequences(\n",
        "        tokenized_outputs, maxlen=MAX_LENGTH, padding='post')\n",
        "\n",
        "    return tokenized_inputs, tokenized_outputs\n",
        "\n",
        "train_inputs, train_outputs = tokenize_and_filter(train_data['Q'], train_data['A'])\n",
        "test_inputs, test_outputs = tokenize_and_filter(test_data['Q'], test_data['A'])\n",
        "\n",
        "BATCH_SIZE = 64\n",
        "BUFFER_SIZE = 20000\n",
        "\n",
        "dataset = tf.data.Dataset.from_tensor_slices((\n",
        "    {\n",
        "        'inputs': train_inputs,\n",
        "        'dec_inputs': train_outputs[:, :-1]\n",
        "    },\n",
        "    {\n",
        "        'outputs': train_outputs[:, 1:]\n",
        "    },\n",
        "))\n",
        "\n",
        "dataset = dataset.cache()\n",
        "dataset = dataset.shuffle(BUFFER_SIZE)\n",
        "dataset = dataset.batch(BATCH_SIZE)\n",
        "dataset = dataset.prefetch(tf.data.experimental.AUTOTUNE)\n",
        "\n",
        "print(\"전처리 및 데이터셋 생성 완료!\")\n",
        "\n",
        "def create_padding_mask(seq):\n",
        "    seq = tf.cast(tf.math.equal(seq, 0), tf.float32)\n",
        "    return seq[:, tf.newaxis, tf.newaxis, :]  # (batch_size, 1, 1, seq_len)\n",
        "\n",
        "\n",
        "def create_look_ahead_mask(size):\n",
        "    if not isinstance(size, int):\n",
        "        size = tf.shape(size)[0]\n",
        "    mask = 1 - tf.linalg.band_part(tf.ones((size, size)), -1, 0)\n",
        "    return mask  # (seq_len, seq_len)\n",
        "\n",
        "class CustomSchedule(tf.keras.optimizers.schedules.LearningRateSchedule):\n",
        "    def __init__(self, d_model, warmup_steps=4000):\n",
        "        super(CustomSchedule, self).__init__()\n",
        "        self.d_model = d_model\n",
        "        self.d_model = tf.cast(self.d_model, tf.float32)\n",
        "        self.warmup_steps = warmup_steps\n",
        "\n",
        "    def __call__(self, step):\n",
        "        arg1 = tf.math.rsqrt(step)\n",
        "        arg2 = step * (self.warmup_steps ** -1.5)\n",
        "        return tf.math.rsqrt(self.d_model) * tf.math.minimum(arg1, arg2)\n",
        "\n",
        "    def get_config(self):\n",
        "        return {\n",
        "            'd_model': self.d_model.numpy(),  # Ensure Tensor is converted to a value\n",
        "            'warmup_steps': self.warmup_steps\n",
        "        }\n",
        "\n",
        "    @classmethod\n",
        "    def from_config(cls, config):\n",
        "        return cls(**config)\n",
        "\n",
        "# Custom loss function\n",
        "def loss_function(y_true, y_pred):\n",
        "    loss_object = tf.keras.losses.SparseCategoricalCrossentropy(\n",
        "        from_logits=True, reduction='none')\n",
        "    mask = tf.cast(tf.not_equal(y_true, 0), tf.float32)\n",
        "    loss = loss_object(y_true, y_pred)\n",
        "    loss = mask * loss\n",
        "    return tf.reduce_sum(loss) / tf.reduce_sum(mask)\n",
        "\n",
        "# Custom accuracy function\n",
        "def accuracy(y_true, y_pred):\n",
        "    y_pred = tf.argmax(y_pred, axis=-1)\n",
        "    accuracies = tf.equal(y_true, y_pred)\n",
        "    mask = tf.cast(tf.not_equal(y_true, 0), tf.float32)\n",
        "    accuracies = tf.cast(accuracies, tf.float32)\n",
        "    accuracies = mask * accuracies\n",
        "    return tf.reduce_sum(accuracies) / tf.reduce_sum(mask)\n",
        "\n",
        "# Specify the CORRECT path to your saved model\n",
        "model_path = 'chatbot_transformer_model.keras'  # Update with your actual file path\n",
        "\n",
        "# 예시: Transformer 모델 또는 원하는 모델을 정의하는 코드\n",
        "def create_model():\n",
        "    # 여기서 모델을 정의합니다. (예: Transformer 또는 다른 구조)\n",
        "    model = tf.keras.Sequential([\n",
        "        # 레이어 추가 예시\n",
        "        tf.keras.layers.InputLayer(input_shape=(MAX_LENGTH,)),\n",
        "        tf.keras.layers.Embedding(input_dim=tokenizer.vocab_size + 2, output_dim=128),\n",
        "        # 필요한 추가 레이어들\n",
        "        tf.keras.layers.Dense(tokenizer.vocab_size)\n",
        "    ])\n",
        "    return model\n",
        "\n",
        "# 모델 정의\n",
        "model = create_model()\n",
        "\n",
        "# 모델 전체 저장\n",
        "model.save(\"chatbot_transformer_model.keras\")\n",
        "\n",
        "# 모델 불러오기\n",
        "model = tf.keras.models.load_model(\"chatbot_transformer_model.keras\", custom_objects={\n",
        "    'CustomSchedule': CustomSchedule,\n",
        "    'create_padding_mask': create_padding_mask,\n",
        "    'create_look_ahead_mask': create_look_ahead_mask,\n",
        "    'loss_function': loss_function,\n",
        "    'accuracy': accuracy\n",
        "})\n",
        "\n",
        "\n",
        "# Verify if the file exists at the specified path\n",
        "import os\n",
        "if os.path.exists(model_path):\n",
        "    print(\"Model file found!\")\n",
        "else:\n",
        "    print(\"Model file not found. Please check the path.\")\n",
        "\n",
        "def decoder_inference(sentence):\n",
        "    sentence = preprocess_text(sentence)\n",
        "    sentence = tf.expand_dims(START_TOKEN + tokenizer.encode(sentence) + END_TOKEN, axis=0)\n",
        "\n",
        "    # Ensure shape matches expected input\n",
        "    output_sequence = tf.expand_dims(START_TOKEN, 0)\n",
        "\n",
        "    for i in range(MAX_LENGTH):\n",
        "        # Prepare input with correct shape\n",
        "        predictions = model([sentence, output_sequence], training=False)\n",
        "        predictions = predictions[:, -1:, :]  # Extract the last word's prediction\n",
        "\n",
        "        predicted_id = tf.cast(tf.argmax(predictions, axis=-1), tf.int32)\n",
        "\n",
        "        if tf.equal(predicted_id, END_TOKEN[0]):\n",
        "            break\n",
        "\n",
        "        output_sequence = tf.concat([output_sequence, predicted_id], axis=-1)\n",
        "\n",
        "    return tf.squeeze(output_sequence, axis=0)\n",
        "\n",
        "def sentence_generation(sentence):\n",
        "    prediction = decoder_inference(sentence)\n",
        "    predicted_sentence = tokenizer.decode([i for i in prediction if i < tokenizer.vocab_size])\n",
        "\n",
        "    print('입력 : {}'.format(sentence))\n",
        "    print('출력 : {}'.format(predicted_sentence))\n",
        "\n",
        "    return predicted_sentence\n",
        "\n",
        "# Test the chatbot with an example input\n",
        "user_input = \"사내커플인데 비밀연애임 답답해\"\n",
        "response = sentence_generation(user_input)\n",
        "print(f\"User: {user_input}\")\n",
        "print(f\"Chatbot: {response}\")\n",
        "\n",
        "print(\"슝=3\")\n"
      ],
      "metadata": {
        "colab": {
          "base_uri": "https://localhost:8080/"
        },
        "collapsed": true,
        "id": "wrIaOOMQ0-Jr",
        "outputId": "54e9610b-b6ca-4de7-e888-c75a8add9795"
      },
      "execution_count": 100,
      "outputs": [
        {
          "output_type": "stream",
          "name": "stdout",
          "text": [
            "전처리 및 데이터셋 생성 완료!\n",
            "Model file found!\n"
          ]
        },
        {
          "output_type": "stream",
          "name": "stderr",
          "text": [
            "/usr/local/lib/python3.10/dist-packages/keras/src/layers/core/input_layer.py:26: UserWarning: Argument `input_shape` is deprecated. Use `shape` instead.\n",
            "  warnings.warn(\n"
          ]
        },
        {
          "output_type": "stream",
          "name": "stdout",
          "text": [
            "입력 : 사내커플인데 비밀연애임 답답해\n",
            "출력 : 서서서서서서서서서서서서서서서서서서서서서서서서서서서서서서서서서서서서서서서서\n",
            "User: 사내커플인데 비밀연애임 답답해\n",
            "Chatbot: 서서서서서서서서서서서서서서서서서서서서서서서서서서서서서서서서서서서서서서서서\n",
            "슝=3\n"
          ]
        }
      ]
    },
    {
      "cell_type": "code",
      "source": [
        "import tensorflow as tf\n",
        "import tensorflow_datasets as tfds\n",
        "import numpy as np\n",
        "import pandas as pd\n",
        "import re\n",
        "from sklearn.model_selection import train_test_split\n",
        "from konlpy.tag import Okt\n",
        "\n",
        "# 데이터 로드 및 전처리\n",
        "data = pd.read_csv('ChatbotData.csv')\n",
        "data = data.dropna()\n",
        "\n",
        "def clean_text(text):\n",
        "    text = re.sub(r'[^ㄱ-ㅎㅏ-ㅣ가-힣 ]', '', text)\n",
        "    return text\n",
        "\n",
        "data['Q'] = data['Q'].apply(clean_text)\n",
        "data['A'] = data['A'].apply(clean_text)\n",
        "data['Q'] = data['Q'].str.strip()\n",
        "data['A'] = data['A'].str.strip()\n",
        "\n",
        "okt = Okt()\n",
        "stopwords = ['은', '는', '이', '가', '을', '를', '에', '의', '와', '한', '하다']\n",
        "\n",
        "def preprocess_text(text):\n",
        "    tokens = okt.morphs(text)\n",
        "    tokens = [word for word in tokens if word not in stopwords]\n",
        "    return ' '.join(tokens)\n",
        "\n",
        "data['Q'] = data['Q'].apply(preprocess_text)\n",
        "data['A'] = data['A'].apply(preprocess_text)\n",
        "\n",
        "train_data, test_data = train_test_split(data, test_size=0.2, random_state=42)\n",
        "\n",
        "tokenizer = tfds.deprecated.text.SubwordTextEncoder.build_from_corpus(\n",
        "    train_data['Q'].tolist() + train_data['A'].tolist(), target_vocab_size=2**13)\n",
        "\n",
        "START_TOKEN, END_TOKEN = [tokenizer.vocab_size], [tokenizer.vocab_size + 1]\n",
        "MAX_LENGTH = 40\n",
        "\n",
        "def tokenize_and_filter(inputs, outputs):\n",
        "    tokenized_inputs, tokenized_outputs = [], []\n",
        "\n",
        "    for (sentence1, sentence2) in zip(inputs, outputs):\n",
        "        sentence1 = START_TOKEN + tokenizer.encode(sentence1) + END_TOKEN\n",
        "        sentence2 = START_TOKEN + tokenizer.encode(sentence2) + END_TOKEN\n",
        "\n",
        "        if len(sentence1) <= MAX_LENGTH and len(sentence2) <= MAX_LENGTH:\n",
        "            tokenized_inputs.append(sentence1)\n",
        "            tokenized_outputs.append(sentence2)\n",
        "\n",
        "    tokenized_inputs = tf.keras.preprocessing.sequence.pad_sequences(\n",
        "        tokenized_inputs, maxlen=MAX_LENGTH, padding='post')\n",
        "    tokenized_outputs = tf.keras.preprocessing.sequence.pad_sequences(\n",
        "        tokenized_outputs, maxlen=MAX_LENGTH, padding='post')\n",
        "\n",
        "    return tokenized_inputs, tokenized_outputs\n",
        "\n",
        "train_inputs, train_outputs = tokenize_and_filter(train_data['Q'], train_data['A'])\n",
        "test_inputs, test_outputs = tokenize_and_filter(test_data['Q'], test_data['A'])\n",
        "\n",
        "BATCH_SIZE = 64\n",
        "BUFFER_SIZE = 20000\n",
        "\n",
        "dataset = tf.data.Dataset.from_tensor_slices((\n",
        "    {\n",
        "        'inputs': train_inputs,\n",
        "        'dec_inputs': train_outputs[:, :-1]\n",
        "    },\n",
        "    {\n",
        "        'outputs': train_outputs[:, 1:]\n",
        "    },\n",
        "))\n",
        "\n",
        "dataset = dataset.cache()\n",
        "dataset = dataset.shuffle(BUFFER_SIZE)\n",
        "dataset = dataset.batch(BATCH_SIZE)\n",
        "dataset = dataset.prefetch(tf.data.experimental.AUTOTUNE)\n",
        "\n",
        "print(\"전처리 및 데이터셋 생성 완료!\")\n",
        "\n",
        "def create_padding_mask(seq):\n",
        "    seq = tf.cast(tf.math.equal(seq, 0), tf.float32)\n",
        "    return seq[:, tf.newaxis, tf.newaxis, :]  # (batch_size, 1, 1, seq_len)\n",
        "\n",
        "\n",
        "def create_look_ahead_mask(size):\n",
        "    if not isinstance(size, int):\n",
        "        size = tf.shape(size)[0]\n",
        "    mask = 1 - tf.linalg.band_part(tf.ones((size, size)), -1, 0)\n",
        "    return mask  # (seq_len, seq_len)\n",
        "\n",
        "class CustomSchedule(tf.keras.optimizers.schedules.LearningRateSchedule):\n",
        "    def __init__(self, d_model, warmup_steps=4000):\n",
        "        super(CustomSchedule, self).__init__()\n",
        "        self.d_model = d_model\n",
        "        self.d_model = tf.cast(self.d_model, tf.float32)\n",
        "        self.warmup_steps = warmup_steps\n",
        "\n",
        "    def __call__(self, step):\n",
        "        arg1 = tf.math.rsqrt(step)\n",
        "        arg2 = step * (self.warmup_steps ** -1.5)\n",
        "        return tf.math.rsqrt(self.d_model) * tf.math.minimum(arg1, arg2)\n",
        "\n",
        "    def get_config(self):\n",
        "        return {\n",
        "            'd_model': self.d_model.numpy(),  # Ensure Tensor is converted to a value\n",
        "            'warmup_steps': self.warmup_steps\n",
        "        }\n",
        "\n",
        "    @classmethod\n",
        "    def from_config(cls, config):\n",
        "        return cls(**config)\n",
        "\n",
        "# Custom loss function\n",
        "def loss_function(y_true, y_pred):\n",
        "    loss_object = tf.keras.losses.SparseCategoricalCrossentropy(\n",
        "        from_logits=True, reduction='none')\n",
        "    mask = tf.cast(tf.not_equal(y_true, 0), tf.float32)\n",
        "    loss = loss_object(y_true, y_pred)\n",
        "    loss = mask * loss\n",
        "    return tf.reduce_sum(loss) / tf.reduce_sum(mask)\n",
        "\n",
        "# Custom accuracy function\n",
        "def accuracy(y_true, y_pred):\n",
        "    y_pred = tf.argmax(y_pred, axis=-1)\n",
        "    accuracies = tf.equal(y_true, y_pred)\n",
        "    mask = tf.cast(tf.not_equal(y_true, 0), tf.float32)\n",
        "    accuracies = tf.cast(accuracies, tf.float32)\n",
        "    accuracies = mask * accuracies\n",
        "    return tf.reduce_sum(accuracies) / tf.reduce_sum(mask)\n",
        "\n",
        "# Specify the CORRECT path to your saved model\n",
        "model_path = 'chatbot_transformer_model.keras'  # Update with your actual file path\n",
        "\n",
        "# 예시: Transformer 모델 또는 원하는 모델을 정의하는 코드\n",
        "def create_model():\n",
        "    # 여기서 모델을 정의합니다. (예: Transformer 또는 다른 구조)\n",
        "    model = tf.keras.Sequential([\n",
        "        # 레이어 추가 예시\n",
        "        tf.keras.layers.InputLayer(input_shape=(MAX_LENGTH,)),\n",
        "        tf.keras.layers.Embedding(input_dim=tokenizer.vocab_size + 2, output_dim=128),\n",
        "        # 필요한 추가 레이어들\n",
        "        tf.keras.layers.Dense(tokenizer.vocab_size)\n",
        "    ])\n",
        "    return model\n",
        "\n",
        "# 모델 정의\n",
        "model = create_model()\n",
        "\n",
        "# 모델 전체 저장\n",
        "model.save(\"chatbot_transformer_model.keras\")\n",
        "\n",
        "# 모델 불러오기\n",
        "model = tf.keras.models.load_model(\"chatbot_transformer_model.keras\", custom_objects={\n",
        "    'CustomSchedule': CustomSchedule,\n",
        "    'create_padding_mask': create_padding_mask,\n",
        "    'create_look_ahead_mask': create_look_ahead_mask,\n",
        "    'loss_function': loss_function,\n",
        "    'accuracy': accuracy\n",
        "})\n",
        "\n",
        "# Verify if the file exists at the specified path\n",
        "import os\n",
        "if os.path.exists(model_path):\n",
        "    print(\"Model file found!\")\n",
        "else:\n",
        "    print(\"Model file not found. Please check the path.\")\n",
        "\n",
        "def decoder_inference(sentence):\n",
        "    sentence = preprocess_text(sentence)\n",
        "    sentence = tf.expand_dims(START_TOKEN + tokenizer.encode(sentence) + END_TOKEN, axis=0)\n",
        "\n",
        "    # Ensure shape matches expected input\n",
        "    output_sequence = tf.expand_dims(START_TOKEN, 0)\n",
        "\n",
        "    for i in range(MAX_LENGTH):\n",
        "        # Prepare input with correct shape\n",
        "        predictions = model([sentence, output_sequence], training=False)\n",
        "        predictions = predictions[:, -1:, :]  # Extract the last word's prediction\n",
        "\n",
        "        predicted_id = tf.cast(tf.argmax(predictions, axis=-1), tf.int32)\n",
        "\n",
        "        if tf.equal(predicted_id, END_TOKEN[0]):\n",
        "            break\n",
        "\n",
        "        output_sequence = tf.concat([output_sequence, predicted_id], axis=-1)\n",
        "\n",
        "    return tf.squeeze(output_sequence, axis=0)\n",
        "\n",
        "def sentence_generation(sentence):\n",
        "    prediction = decoder_inference(sentence)\n",
        "    predicted_sentence = tokenizer.decode([i for i in prediction if i < tokenizer.vocab_size])\n",
        "\n",
        "    print('입력 : {}'.format(sentence))\n",
        "    print('출력 : {}'.format(predicted_sentence))\n",
        "\n",
        "    return predicted_sentence\n",
        "\n",
        "# Test the chatbot with an example input\n",
        "user_input = \"사내커플인데 비밀연애임 답답해\"\n",
        "response = sentence_generation(user_input)\n",
        "print(f\"User: {user_input}\")\n",
        "print(f\"Chatbot: {response}\")\n",
        "\n",
        "print(\"슝=3\")\n"
      ],
      "metadata": {
        "colab": {
          "base_uri": "https://localhost:8080/"
        },
        "collapsed": true,
        "id": "UjRGaunX6Iao",
        "outputId": "fb59464b-015b-4dc2-ab1d-71770ef44c3d"
      },
      "execution_count": 101,
      "outputs": [
        {
          "output_type": "stream",
          "name": "stdout",
          "text": [
            "전처리 및 데이터셋 생성 완료!\n",
            "Model file found!\n"
          ]
        },
        {
          "output_type": "stream",
          "name": "stderr",
          "text": [
            "/usr/local/lib/python3.10/dist-packages/keras/src/layers/core/input_layer.py:26: UserWarning: Argument `input_shape` is deprecated. Use `shape` instead.\n",
            "  warnings.warn(\n"
          ]
        },
        {
          "output_type": "stream",
          "name": "stdout",
          "text": [
            "입력 : 사내커플인데 비밀연애임 답답해\n",
            "출력 : 똑같지똑같지똑같지똑같지똑같지똑같지똑같지똑같지똑같지똑같지똑같지똑같지똑같지똑같지똑같지똑같지똑같지똑같지똑같지똑같지똑같지똑같지똑같지똑같지똑같지똑같지똑같지똑같지똑같지똑같지똑같지똑같지똑같지똑같지똑같지똑같지똑같지똑같지똑같지똑같지\n",
            "User: 사내커플인데 비밀연애임 답답해\n",
            "Chatbot: 똑같지똑같지똑같지똑같지똑같지똑같지똑같지똑같지똑같지똑같지똑같지똑같지똑같지똑같지똑같지똑같지똑같지똑같지똑같지똑같지똑같지똑같지똑같지똑같지똑같지똑같지똑같지똑같지똑같지똑같지똑같지똑같지똑같지똑같지똑같지똑같지똑같지똑같지똑같지똑같지\n",
            "슝=3\n"
          ]
        }
      ]
    },
    {
      "cell_type": "markdown",
      "source": [
        "# Step 6.  Streamlit을 사용하여 웹 기반의 챗봇 인터페이스를 생성하기\n",
        "### 사용자가 입력창에 문장을 입력하고 “Send” 버튼을 클릭하면 챗봇이 응답을 생성하여 화면에 표시"
      ],
      "metadata": {
        "id": "T0-U9Etl9Dsi"
      }
    },
    {
      "cell_type": "code",
      "source": [
        "!pip install streamlit"
      ],
      "metadata": {
        "colab": {
          "base_uri": "https://localhost:8080/"
        },
        "collapsed": true,
        "id": "NzVfIWgS83LN",
        "outputId": "0cc00b96-989e-4e0a-90d3-a4ff4ccaef2d"
      },
      "execution_count": 104,
      "outputs": [
        {
          "output_type": "stream",
          "name": "stdout",
          "text": [
            "Collecting streamlit\n",
            "  Downloading streamlit-1.37.1-py2.py3-none-any.whl.metadata (8.5 kB)\n",
            "Requirement already satisfied: altair<6,>=4.0 in /usr/local/lib/python3.10/dist-packages (from streamlit) (4.2.2)\n",
            "Requirement already satisfied: blinker<2,>=1.0.0 in /usr/lib/python3/dist-packages (from streamlit) (1.4)\n",
            "Requirement already satisfied: cachetools<6,>=4.0 in /usr/local/lib/python3.10/dist-packages (from streamlit) (5.5.0)\n",
            "Requirement already satisfied: click<9,>=7.0 in /usr/local/lib/python3.10/dist-packages (from streamlit) (8.1.7)\n",
            "Requirement already satisfied: numpy<3,>=1.20 in /usr/local/lib/python3.10/dist-packages (from streamlit) (1.26.4)\n",
            "Requirement already satisfied: packaging<25,>=20 in /usr/local/lib/python3.10/dist-packages (from streamlit) (24.1)\n",
            "Requirement already satisfied: pandas<3,>=1.3.0 in /usr/local/lib/python3.10/dist-packages (from streamlit) (2.1.4)\n",
            "Requirement already satisfied: pillow<11,>=7.1.0 in /usr/local/lib/python3.10/dist-packages (from streamlit) (9.4.0)\n",
            "Requirement already satisfied: protobuf<6,>=3.20 in /usr/local/lib/python3.10/dist-packages (from streamlit) (3.20.3)\n",
            "Requirement already satisfied: pyarrow>=7.0 in /usr/local/lib/python3.10/dist-packages (from streamlit) (14.0.2)\n",
            "Requirement already satisfied: requests<3,>=2.27 in /usr/local/lib/python3.10/dist-packages (from streamlit) (2.32.3)\n",
            "Requirement already satisfied: rich<14,>=10.14.0 in /usr/local/lib/python3.10/dist-packages (from streamlit) (13.7.1)\n",
            "Collecting tenacity<9,>=8.1.0 (from streamlit)\n",
            "  Downloading tenacity-8.5.0-py3-none-any.whl.metadata (1.2 kB)\n",
            "Requirement already satisfied: toml<2,>=0.10.1 in /usr/local/lib/python3.10/dist-packages (from streamlit) (0.10.2)\n",
            "Requirement already satisfied: typing-extensions<5,>=4.3.0 in /usr/local/lib/python3.10/dist-packages (from streamlit) (4.12.2)\n",
            "Collecting gitpython!=3.1.19,<4,>=3.0.7 (from streamlit)\n",
            "  Downloading GitPython-3.1.43-py3-none-any.whl.metadata (13 kB)\n",
            "Collecting pydeck<1,>=0.8.0b4 (from streamlit)\n",
            "  Downloading pydeck-0.9.1-py2.py3-none-any.whl.metadata (4.1 kB)\n",
            "Requirement already satisfied: tornado<7,>=6.0.3 in /usr/local/lib/python3.10/dist-packages (from streamlit) (6.3.3)\n",
            "Collecting watchdog<5,>=2.1.5 (from streamlit)\n",
            "  Downloading watchdog-4.0.2-py3-none-manylinux2014_x86_64.whl.metadata (38 kB)\n",
            "Requirement already satisfied: entrypoints in /usr/local/lib/python3.10/dist-packages (from altair<6,>=4.0->streamlit) (0.4)\n",
            "Requirement already satisfied: jinja2 in /usr/local/lib/python3.10/dist-packages (from altair<6,>=4.0->streamlit) (3.1.4)\n",
            "Requirement already satisfied: jsonschema>=3.0 in /usr/local/lib/python3.10/dist-packages (from altair<6,>=4.0->streamlit) (4.23.0)\n",
            "Requirement already satisfied: toolz in /usr/local/lib/python3.10/dist-packages (from altair<6,>=4.0->streamlit) (0.12.1)\n",
            "Collecting gitdb<5,>=4.0.1 (from gitpython!=3.1.19,<4,>=3.0.7->streamlit)\n",
            "  Downloading gitdb-4.0.11-py3-none-any.whl.metadata (1.2 kB)\n",
            "Requirement already satisfied: python-dateutil>=2.8.2 in /usr/local/lib/python3.10/dist-packages (from pandas<3,>=1.3.0->streamlit) (2.8.2)\n",
            "Requirement already satisfied: pytz>=2020.1 in /usr/local/lib/python3.10/dist-packages (from pandas<3,>=1.3.0->streamlit) (2024.1)\n",
            "Requirement already satisfied: tzdata>=2022.1 in /usr/local/lib/python3.10/dist-packages (from pandas<3,>=1.3.0->streamlit) (2024.1)\n",
            "Requirement already satisfied: charset-normalizer<4,>=2 in /usr/local/lib/python3.10/dist-packages (from requests<3,>=2.27->streamlit) (3.3.2)\n",
            "Requirement already satisfied: idna<4,>=2.5 in /usr/local/lib/python3.10/dist-packages (from requests<3,>=2.27->streamlit) (3.7)\n",
            "Requirement already satisfied: urllib3<3,>=1.21.1 in /usr/local/lib/python3.10/dist-packages (from requests<3,>=2.27->streamlit) (2.0.7)\n",
            "Requirement already satisfied: certifi>=2017.4.17 in /usr/local/lib/python3.10/dist-packages (from requests<3,>=2.27->streamlit) (2024.7.4)\n",
            "Requirement already satisfied: markdown-it-py>=2.2.0 in /usr/local/lib/python3.10/dist-packages (from rich<14,>=10.14.0->streamlit) (3.0.0)\n",
            "Requirement already satisfied: pygments<3.0.0,>=2.13.0 in /usr/local/lib/python3.10/dist-packages (from rich<14,>=10.14.0->streamlit) (2.16.1)\n",
            "Collecting smmap<6,>=3.0.1 (from gitdb<5,>=4.0.1->gitpython!=3.1.19,<4,>=3.0.7->streamlit)\n",
            "  Downloading smmap-5.0.1-py3-none-any.whl.metadata (4.3 kB)\n",
            "Requirement already satisfied: MarkupSafe>=2.0 in /usr/local/lib/python3.10/dist-packages (from jinja2->altair<6,>=4.0->streamlit) (2.1.5)\n",
            "Requirement already satisfied: attrs>=22.2.0 in /usr/local/lib/python3.10/dist-packages (from jsonschema>=3.0->altair<6,>=4.0->streamlit) (24.2.0)\n",
            "Requirement already satisfied: jsonschema-specifications>=2023.03.6 in /usr/local/lib/python3.10/dist-packages (from jsonschema>=3.0->altair<6,>=4.0->streamlit) (2023.12.1)\n",
            "Requirement already satisfied: referencing>=0.28.4 in /usr/local/lib/python3.10/dist-packages (from jsonschema>=3.0->altair<6,>=4.0->streamlit) (0.35.1)\n",
            "Requirement already satisfied: rpds-py>=0.7.1 in /usr/local/lib/python3.10/dist-packages (from jsonschema>=3.0->altair<6,>=4.0->streamlit) (0.20.0)\n",
            "Requirement already satisfied: mdurl~=0.1 in /usr/local/lib/python3.10/dist-packages (from markdown-it-py>=2.2.0->rich<14,>=10.14.0->streamlit) (0.1.2)\n",
            "Requirement already satisfied: six>=1.5 in /usr/local/lib/python3.10/dist-packages (from python-dateutil>=2.8.2->pandas<3,>=1.3.0->streamlit) (1.16.0)\n",
            "Downloading streamlit-1.37.1-py2.py3-none-any.whl (8.7 MB)\n",
            "\u001b[2K   \u001b[90m━━━━━━━━━━━━━━━━━━━━━━━━━━━━━━━━━━━━━━━━\u001b[0m \u001b[32m8.7/8.7 MB\u001b[0m \u001b[31m50.3 MB/s\u001b[0m eta \u001b[36m0:00:00\u001b[0m\n",
            "\u001b[?25hDownloading GitPython-3.1.43-py3-none-any.whl (207 kB)\n",
            "\u001b[2K   \u001b[90m━━━━━━━━━━━━━━━━━━━━━━━━━━━━━━━━━━━━━━━━\u001b[0m \u001b[32m207.3/207.3 kB\u001b[0m \u001b[31m9.0 MB/s\u001b[0m eta \u001b[36m0:00:00\u001b[0m\n",
            "\u001b[?25hDownloading pydeck-0.9.1-py2.py3-none-any.whl (6.9 MB)\n",
            "\u001b[2K   \u001b[90m━━━━━━━━━━━━━━━━━━━━━━━━━━━━━━━━━━━━━━━━\u001b[0m \u001b[32m6.9/6.9 MB\u001b[0m \u001b[31m66.7 MB/s\u001b[0m eta \u001b[36m0:00:00\u001b[0m\n",
            "\u001b[?25hDownloading tenacity-8.5.0-py3-none-any.whl (28 kB)\n",
            "Downloading watchdog-4.0.2-py3-none-manylinux2014_x86_64.whl (82 kB)\n",
            "\u001b[2K   \u001b[90m━━━━━━━━━━━━━━━━━━━━━━━━━━━━━━━━━━━━━━━━\u001b[0m \u001b[32m82.9/82.9 kB\u001b[0m \u001b[31m5.4 MB/s\u001b[0m eta \u001b[36m0:00:00\u001b[0m\n",
            "\u001b[?25hDownloading gitdb-4.0.11-py3-none-any.whl (62 kB)\n",
            "\u001b[2K   \u001b[90m━━━━━━━━━━━━━━━━━━━━━━━━━━━━━━━━━━━━━━━━\u001b[0m \u001b[32m62.7/62.7 kB\u001b[0m \u001b[31m3.8 MB/s\u001b[0m eta \u001b[36m0:00:00\u001b[0m\n",
            "\u001b[?25hDownloading smmap-5.0.1-py3-none-any.whl (24 kB)\n",
            "Installing collected packages: watchdog, tenacity, smmap, pydeck, gitdb, gitpython, streamlit\n",
            "  Attempting uninstall: tenacity\n",
            "    Found existing installation: tenacity 9.0.0\n",
            "    Uninstalling tenacity-9.0.0:\n",
            "      Successfully uninstalled tenacity-9.0.0\n",
            "Successfully installed gitdb-4.0.11 gitpython-3.1.43 pydeck-0.9.1 smmap-5.0.1 streamlit-1.37.1 tenacity-8.5.0 watchdog-4.0.2\n"
          ]
        }
      ]
    },
    {
      "cell_type": "code",
      "source": [
        "import streamlit as st\n",
        "import tensorflow as tf\n",
        "import tensorflow_datasets as tfds\n",
        "import numpy as np\n",
        "import pandas as pd\n",
        "import re\n",
        "from sklearn.model_selection import train_test_split\n",
        "from konlpy.tag import Okt\n",
        "\n",
        "# 데이터 로드 및 전처리\n",
        "data = pd.read_csv('ChatbotData.csv')\n",
        "data = data.dropna()\n",
        "\n",
        "def clean_text(text):\n",
        "    text = re.sub(r'[^ㄱ-ㅎㅏ-ㅣ가-힣 ]', '', text)\n",
        "    return text\n",
        "\n",
        "data['Q'] = data['Q'].apply(clean_text)\n",
        "data['A'] = data['A'].apply(clean_text)\n",
        "data['Q'] = data['Q'].str.strip()\n",
        "data['A'] = data['A'].str.strip()\n",
        "\n",
        "okt = Okt()\n",
        "stopwords = ['은', '는', '이', '가', '을', '를', '에', '의', '와', '한', '하다']\n",
        "\n",
        "def preprocess_text(text):\n",
        "    tokens = okt.morphs(text)\n",
        "    tokens = [word for word in tokens if word not in stopwords]\n",
        "    return ' '.join(tokens)\n",
        "\n",
        "data['Q'] = data['Q'].apply(preprocess_text)\n",
        "data['A'] = data['A'].apply(preprocess_text)\n",
        "\n",
        "train_data, test_data = train_test_split(data, test_size=0.2, random_state=42)\n",
        "\n",
        "tokenizer = tfds.deprecated.text.SubwordTextEncoder.build_from_corpus(\n",
        "    train_data['Q'].tolist() + train_data['A'].tolist(), target_vocab_size=2**13)\n",
        "\n",
        "START_TOKEN, END_TOKEN = [tokenizer.vocab_size], [tokenizer.vocab_size + 1]\n",
        "MAX_LENGTH = 40\n",
        "\n",
        "def tokenize_and_filter(inputs, outputs):\n",
        "    tokenized_inputs, tokenized_outputs = [], []\n",
        "\n",
        "    for (sentence1, sentence2) in zip(inputs, outputs):\n",
        "        sentence1 = START_TOKEN + tokenizer.encode(sentence1) + END_TOKEN\n",
        "        sentence2 = START_TOKEN + tokenizer.encode(sentence2) + END_TOKEN\n",
        "\n",
        "        if len(sentence1) <= MAX_LENGTH and len(sentence2) <= MAX_LENGTH:\n",
        "            tokenized_inputs.append(sentence1)\n",
        "            tokenized_outputs.append(sentence2)\n",
        "\n",
        "    tokenized_inputs = tf.keras.preprocessing.sequence.pad_sequences(\n",
        "        tokenized_inputs, maxlen=MAX_LENGTH, padding='post')\n",
        "    tokenized_outputs = tf.keras.preprocessing.sequence.pad_sequences(\n",
        "        tokenized_outputs, maxlen=MAX_LENGTH, padding='post')\n",
        "\n",
        "    return tokenized_inputs, tokenized_outputs\n",
        "\n",
        "train_inputs, train_outputs = tokenize_and_filter(train_data['Q'], train_data['A'])\n",
        "test_inputs, test_outputs = tokenize_and_filter(test_data['Q'], test_data['A'])\n",
        "\n",
        "BATCH_SIZE = 64\n",
        "BUFFER_SIZE = 20000\n",
        "\n",
        "dataset = tf.data.Dataset.from_tensor_slices((\n",
        "    {\n",
        "        'inputs': train_inputs,\n",
        "        'dec_inputs': train_outputs[:, :-1]\n",
        "    },\n",
        "    {\n",
        "        'outputs': train_outputs[:, 1:]\n",
        "    },\n",
        "))\n",
        "\n",
        "dataset = dataset.cache()\n",
        "dataset = dataset.shuffle(BUFFER_SIZE)\n",
        "dataset = dataset.batch(BATCH_SIZE)\n",
        "dataset = dataset.prefetch(tf.data.experimental.AUTOTUNE)\n",
        "\n",
        "print(\"전처리 및 데이터셋 생성 완료!\")\n",
        "\n",
        "def create_padding_mask(seq):\n",
        "    seq = tf.cast(tf.math.equal(seq, 0), tf.float32)\n",
        "    return seq[:, tf.newaxis, tf.newaxis, :]  # (batch_size, 1, 1, seq_len)\n",
        "\n",
        "\n",
        "def create_look_ahead_mask(size):\n",
        "    if not isinstance(size, int):\n",
        "        size = tf.shape(size)[0]\n",
        "    mask = 1 - tf.linalg.band_part(tf.ones((size, size)), -1, 0)\n",
        "    return mask  # (seq_len, seq_len)\n",
        "\n",
        "class CustomSchedule(tf.keras.optimizers.schedules.LearningRateSchedule):\n",
        "    def __init__(self, d_model, warmup_steps=4000):\n",
        "        super(CustomSchedule, self).__init__()\n",
        "        self.d_model = d_model\n",
        "        self.d_model = tf.cast(self.d_model, tf.float32)\n",
        "        self.warmup_steps = warmup_steps\n",
        "\n",
        "    def __call__(self, step):\n",
        "        arg1 = tf.math.rsqrt(step)\n",
        "        arg2 = step * (self.warmup_steps ** -1.5)\n",
        "        return tf.math.rsqrt(self.d_model) * tf.math.minimum(arg1, arg2)\n",
        "\n",
        "    def get_config(self):\n",
        "        return {\n",
        "            'd_model': self.d_model.numpy(),  # Ensure Tensor is converted to a value\n",
        "            'warmup_steps': self.warmup_steps\n",
        "        }\n",
        "\n",
        "    @classmethod\n",
        "    def from_config(cls, config):\n",
        "        return cls(**config)\n",
        "\n",
        "# Custom loss function\n",
        "def loss_function(y_true, y_pred):\n",
        "    loss_object = tf.keras.losses.SparseCategoricalCrossentropy(\n",
        "        from_logits=True, reduction='none')\n",
        "    mask = tf.cast(tf.not_equal(y_true, 0), tf.float32)\n",
        "    loss = loss_object(y_true, y_pred)\n",
        "    loss = mask * loss\n",
        "    return tf.reduce_sum(loss) / tf.reduce_sum(mask)\n",
        "\n",
        "# Custom accuracy function\n",
        "def accuracy(y_true, y_pred):\n",
        "    y_pred = tf.argmax(y_pred, axis=-1)\n",
        "    accuracies = tf.equal(y_true, y_pred)\n",
        "    mask = tf.cast(tf.not_equal(y_true, 0), tf.float32)\n",
        "    accuracies = tf.cast(accuracies, tf.float32)\n",
        "    accuracies = mask * accuracies\n",
        "    return tf.reduce_sum(accuracies) / tf.reduce_sum(mask)\n",
        "\n",
        "# Specify the CORRECT path to your saved model\n",
        "model_path = 'chatbot_transformer_model.keras'  # Update with your actual file path\n",
        "\n",
        "# 예시: Transformer 모델 또는 원하는 모델을 정의하는 코드\n",
        "def create_model():\n",
        "    # 여기서 모델을 정의합니다. (예: Transformer 또는 다른 구조)\n",
        "    model = tf.keras.Sequential([\n",
        "        # 레이어 추가 예시\n",
        "        tf.keras.layers.InputLayer(input_shape=(MAX_LENGTH,)),\n",
        "        tf.keras.layers.Embedding(input_dim=tokenizer.vocab_size + 2, output_dim=128),\n",
        "        # 필요한 추가 레이어들\n",
        "        tf.keras.layers.Dense(tokenizer.vocab_size)\n",
        "    ])\n",
        "    return model\n",
        "\n",
        "# 모델 정의\n",
        "model = create_model()\n",
        "\n",
        "# 모델 전체 저장\n",
        "model.save(\"chatbot_transformer_model.keras\")\n",
        "\n",
        "# 모델 불러오기\n",
        "model = tf.keras.models.load_model(\"chatbot_transformer_model.keras\", custom_objects={\n",
        "    'CustomSchedule': CustomSchedule,\n",
        "    'create_padding_mask': create_padding_mask,\n",
        "    'create_look_ahead_mask': create_look_ahead_mask,\n",
        "    'loss_function': loss_function,\n",
        "    'accuracy': accuracy\n",
        "})\n",
        "\n",
        "# Verify if the file exists at the specified path\n",
        "import os\n",
        "if os.path.exists(model_path):\n",
        "    print(\"Model file found!\")\n",
        "else:\n",
        "    print(\"Model file not found. Please check the path.\")\n",
        "\n",
        "def decoder_inference(sentence):\n",
        "    sentence = preprocess_text(sentence)\n",
        "    sentence = tf.expand_dims(START_TOKEN + tokenizer.encode(sentence) + END_TOKEN, axis=0)\n",
        "\n",
        "    # Ensure shape matches expected input\n",
        "    output_sequence = tf.expand_dims(START_TOKEN, 0)\n",
        "\n",
        "    for i in range(MAX_LENGTH):\n",
        "        # Prepare input with correct shape\n",
        "        predictions = model([sentence, output_sequence], training=False)\n",
        "        predictions = predictions[:, -1:, :]  # Extract the last word's prediction\n",
        "\n",
        "        predicted_id = tf.cast(tf.argmax(predictions, axis=-1), tf.int32)\n",
        "\n",
        "        if tf.equal(predicted_id, END_TOKEN[0]):\n",
        "            break\n",
        "\n",
        "        output_sequence = tf.concat([output_sequence, predicted_id], axis=-1)\n",
        "\n",
        "    return tf.squeeze(output_sequence, axis=0)\n",
        "\n",
        "def sentence_generation(sentence):\n",
        "    prediction = decoder_inference(sentence)\n",
        "    predicted_sentence = tokenizer.decode([i for i in prediction if i < tokenizer.vocab_size])\n",
        "\n",
        "    return predicted_sentence\n",
        "\n",
        "# Streamlit 앱 생성\n",
        "st.title(\"Korean Chatbot\")\n",
        "st.write(\"챗봇과 대화를 나눠보세요!\")\n",
        "\n",
        "user_input = st.text_input(\"입력:\")\n",
        "if st.button(\"Send\"):\n",
        "    if user_input:\n",
        "        response = sentence_generation(user_input)\n",
        "        st.write(f\"User: {user_input}\")\n",
        "        st.write(f\"Chatbot: {response}\")\n"
      ],
      "metadata": {
        "colab": {
          "base_uri": "https://localhost:8080/"
        },
        "collapsed": true,
        "id": "ad7Q7PvJ8tLr",
        "outputId": "34d014d4-7de0-430f-ddb8-0de11695fde2"
      },
      "execution_count": 105,
      "outputs": [
        {
          "output_type": "stream",
          "name": "stdout",
          "text": [
            "전처리 및 데이터셋 생성 완료!\n",
            "Model file found!\n"
          ]
        },
        {
          "output_type": "stream",
          "name": "stderr",
          "text": [
            "/usr/local/lib/python3.10/dist-packages/keras/src/layers/core/input_layer.py:26: UserWarning: Argument `input_shape` is deprecated. Use `shape` instead.\n",
            "  warnings.warn(\n",
            "2024-08-23 06:38:05.979 \n",
            "  \u001b[33m\u001b[1mWarning:\u001b[0m to view this Streamlit app on a browser, run it with the following\n",
            "  command:\n",
            "\n",
            "    streamlit run /usr/local/lib/python3.10/dist-packages/colab_kernel_launcher.py [ARGUMENTS]\n",
            "2024-08-23 06:38:05.982 Session state does not function when running a script without `streamlit run`\n"
          ]
        }
      ]
    },
    {
      "cell_type": "code",
      "source": [
        "%%writefile app.py\n",
        "\n",
        "import streamlit as st\n",
        "\n",
        "st.write('Hello, *World!* :sunglasses:')"
      ],
      "metadata": {
        "colab": {
          "base_uri": "https://localhost:8080/"
        },
        "id": "SrgF7t5f-Plc",
        "outputId": "964373ed-5cb2-4c61-8055-3fdf691c046b"
      },
      "execution_count": 106,
      "outputs": [
        {
          "output_type": "stream",
          "name": "stdout",
          "text": [
            "Writing app.py\n"
          ]
        }
      ]
    },
    {
      "cell_type": "code",
      "source": [
        "!npm install localtunnel"
      ],
      "metadata": {
        "colab": {
          "base_uri": "https://localhost:8080/"
        },
        "id": "NAWCfon4-R-J",
        "outputId": "57838c03-82c6-41f2-e9e7-602f159f3aea"
      },
      "execution_count": 107,
      "outputs": [
        {
          "output_type": "stream",
          "name": "stdout",
          "text": [
            "\u001b[K\u001b[?25h\n",
            "added 22 packages, and audited 23 packages in 2s\n",
            "\n",
            "3 packages are looking for funding\n",
            "  run `npm fund` for details\n",
            "\n",
            "2 \u001b[33m\u001b[1mmoderate\u001b[22m\u001b[39m severity vulnerabilities\n",
            "\n",
            "To address all issues, run:\n",
            "  npm audit fix\n",
            "\n",
            "Run `npm audit` for details.\n"
          ]
        }
      ]
    },
    {
      "cell_type": "code",
      "source": [
        "!streamlit run app.py &>/content/logs.txt &"
      ],
      "metadata": {
        "id": "qplNliF8-XqA"
      },
      "execution_count": 108,
      "outputs": []
    },
    {
      "cell_type": "code",
      "source": [
        "!npx localtunnel --port 8501"
      ],
      "metadata": {
        "colab": {
          "base_uri": "https://localhost:8080/"
        },
        "id": "rutIW2C5-caI",
        "outputId": "fec46021-dac6-4134-e7cc-5b00fbd50165"
      },
      "execution_count": 111,
      "outputs": [
        {
          "output_type": "stream",
          "name": "stdout",
          "text": [
            "your url is: https://curly-bars-bathe.loca.lt\n",
            "^C\n"
          ]
        }
      ]
    }
  ]
}